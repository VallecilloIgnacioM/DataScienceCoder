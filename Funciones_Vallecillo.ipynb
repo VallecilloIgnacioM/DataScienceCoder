{
  "nbformat": 4,
  "nbformat_minor": 0,
  "metadata": {
    "colab": {
      "name": "Funciones_Vallecillo.ipynb",
      "provenance": [],
      "collapsed_sections": [],
      "include_colab_link": true
    },
    "kernelspec": {
      "name": "python3",
      "display_name": "Python 3"
    },
    "language_info": {
      "name": "python"
    }
  },
  "cells": [
    {
      "cell_type": "markdown",
      "metadata": {
        "id": "view-in-github",
        "colab_type": "text"
      },
      "source": [
        "<a href=\"https://colab.research.google.com/github/VallecilloIgnacioM/DataScienceCoder/blob/main/Funciones_Vallecillo.ipynb\" target=\"_parent\"><img src=\"https://colab.research.google.com/assets/colab-badge.svg\" alt=\"Open In Colab\"/></a>"
      ]
    },
    {
      "cell_type": "markdown",
      "source": [
        "**Entrega de Ignacio Manuel Vallecillo**"
      ],
      "metadata": {
        "id": "9pRMSGuWHlEd"
      }
    },
    {
      "cell_type": "markdown",
      "source": [
        "1. Escribir una funcion para calcular el factorial de un numero cualquiera."
      ],
      "metadata": {
        "id": "BJDChyAP0B93"
      }
    },
    {
      "cell_type": "code",
      "source": [
        "def factorial():\n",
        "  # Solicitamos el valor del numero al cual se le calcula el factorial\n",
        "  n = int(input('Ingrese un numero positivo: '))\n",
        "\n",
        "  # Como el calculo del factorial esta planteado para los enteros positivos, \n",
        "  # se plantea un ciclo WHILE hasta que pase por parametro un numero positivo\n",
        "  while n<0:\n",
        "    print('Ingrese un numero positivo, por favor!')\n",
        "    n = int(input('Ingrese un numero positivo: '))\n",
        " \n",
        " # Como excepciones del factorial tenemos el calculo de los factoriales de \"0\" y \"1\" que ambos son 1\n",
        "  if n == 0:\n",
        "     print(f'El factorial de {n} es 1')\n",
        "   \n",
        "  elif n ==1:\n",
        "      print(f'El factorial de {n} es 1')\n",
        "    \n",
        "  else:\n",
        "  # El resto de calculos de factorial se hace mediante un ciclo FOR, \n",
        "  # multiplicando cada valor del rango por el anterior comenzando desde \"1\" \n",
        "  # hasta \"n + 1\" para que que se incluya el numero al cual se le calcula el factorial.\n",
        "      fact = 1\n",
        "      for i in range(1,n+1):\n",
        "        fact *=i\n",
        "      print(f'El factorial de {n} es {fact}')\n",
        "\n",
        "# Prueba y ejecucion del codigo\n",
        "factorial()\n",
        "factorial()\n",
        "factorial()\n",
        "factorial()"
      ],
      "metadata": {
        "colab": {
          "base_uri": "https://localhost:8080/"
        },
        "id": "IY63JwOS0IIx",
        "outputId": "d77b40e7-7903-4156-e5ee-3497ebb52ce9"
      },
      "execution_count": null,
      "outputs": [
        {
          "output_type": "stream",
          "name": "stdout",
          "text": [
            "Ingrese un numero positivo: -3\n",
            "Ingrese un numero positivo, por favor!\n",
            "Ingrese un numero positivo: 0\n",
            "El factorial de 0 es 1\n",
            "Ingrese un numero positivo: 1\n",
            "El factorial de 1 es 1\n",
            "Ingrese un numero positivo: 50\n",
            "El factorial de 50 es 30414093201713378043612608166064768844377641568960512000000000000\n",
            "Ingrese un numero positivo: 5\n",
            "El factorial de 5 es 120\n"
          ]
        }
      ]
    },
    {
      "cell_type": "markdown",
      "source": [
        "2. Escribir una funcion que calcule el area de un circulo y otra que calcule el volumen de un cilindro usando la primer funcion."
      ],
      "metadata": {
        "id": "ETltlN13kmmV"
      }
    },
    {
      "cell_type": "code",
      "source": [
        "# Funcion que calcula el area de un Circulo. Matematicamente es area_circulo = Pi * (radio al cuadrado)\n",
        "def area_circulo(radio):\n",
        "  PI = 3.141592\n",
        "  return PI*(radio*radio)\n",
        "\n",
        "# Funcion que calcula el Volumen de un Cilindro. Matematicamente es volumen_cilindro = Pi * (radio al cuadrado) * altura\n",
        "def volumen_cilindro(radio, h):\n",
        "  return area_circulo(radio) * h\n",
        "\n",
        "# Prueba y ejecucion del codigo\n",
        "print(f\"Area de un Circulo de radio 4: {area_circulo(4)}\")\n",
        "print(f\"Volumen de un Cilindro de radio 4 y altura 10: {volumen_cilindro(4, 10)}\")\n",
        "\n",
        "print(\"\\nPrueba manual\")\n",
        "# Ingreso manual de parametros para el calculo del Area\n",
        "radio = int(input(\"Ingrese el valor del radio del circulo al que quiere calcular el Area: \"))\n",
        "print(f\"Area de un Circulo de radio {radio}: {area_circulo(radio)}\")\n",
        "\n",
        "# Ingreso manual de parametros para el calculo del Volumen\n",
        "radio_vol = int(input(\"\\nIngrese el valor del RADIO del cilindro al que quiere calcular el Volumen: \"))\n",
        "h_vol = int(input(\"Ingrese el valor de la ALTURA del cilindro al que quiere calcular el Volumen: \"))\n",
        "print(f\"Volumen de un Cilindro de radio {radio_vol} y altura {h_vol}: {volumen_cilindro(radio_vol, h_vol)}\")\n"
      ],
      "metadata": {
        "id": "tdsMExT2k2r4",
        "colab": {
          "base_uri": "https://localhost:8080/"
        },
        "outputId": "e106e420-4059-4357-a87b-95dfa15e0a7c"
      },
      "execution_count": null,
      "outputs": [
        {
          "output_type": "stream",
          "name": "stdout",
          "text": [
            "Area de un Circulo de radio 4: 50.265472\n",
            "Volumen de un Cilindro de radio 4 y altura 10: 502.65472\n",
            "\n",
            "Prueba manual\n",
            "Ingrese el valor del radio del circulo al que quiere calcular el Area: 5\n",
            "Area de un Circulo de radio 5: 78.5398\n",
            "\n",
            "Ingrese el valor del RADIO del cilindro al que quiere calcular el Volumen: 5\n",
            "Ingrese el valor de la ALTURA del cilindro al que quiere calcular el Volumen: 10\n",
            "Volumen de un Cilindro de radio 5 y altura 10: 785.398\n"
          ]
        }
      ]
    },
    {
      "cell_type": "markdown",
      "source": [
        "3. Escriba una funcion para calcular la suma de una serie comenzando por un numero cualquiera y terminando en otro numero que debe ser mayor que el primero.\n"
      ],
      "metadata": {
        "id": "oLVU1GpFzL8-"
      }
    },
    {
      "cell_type": "code",
      "execution_count": null,
      "metadata": {
        "colab": {
          "base_uri": "https://localhost:8080/"
        },
        "id": "SYJSCzsiywuG",
        "outputId": "357654a6-3007-4ad6-e28a-3e371d5383f9"
      },
      "outputs": [
        {
          "output_type": "stream",
          "name": "stdout",
          "text": [
            " Se pasa externamente los valores 56 como limite inferior y 60 como superior.\n",
            "La sumatoria de la serie es:  290\n",
            "Ingrese el primer numero de la serie: 56\n",
            "El segundo numero debe ser mayor a 56, por favor ingrese un numero: 3\n",
            "El segundo numero debe ser mayor a 56, por favor ingrese un numero: 4\n",
            "El segundo numero debe ser mayor a 56, por favor ingrese un numero: 60\n",
            "La sumatoria de la serie es:  290\n"
          ]
        }
      ],
      "source": [
        "# Funcion que valida que n2 sea mayor que n1. \n",
        "def validar_positivo(n1,n2):\n",
        "  while n2 < n1:\n",
        "    n2 = int(input(f\"El segundo numero debe ser mayor a {n1}, por favor ingrese un numero: \"))\n",
        "  return n2\n",
        "\n",
        "# Sumatoria de una serie de numeros comprendidos entre dos numeros\n",
        "def suma_de_series(n_inicio=\"uno\", n_fin=(-4000)):\n",
        "\n",
        "    # En caso de que se quieran agregar los valores limites de la sumatoria desde la llamada a la funcion se activa este IF\n",
        "    if n_inicio == \"uno\":\n",
        "      # Solicitamos el valor de Inicio de la serie y se lo pasamos como parametro a la misma funcion para activar el ELSE\n",
        "      n_inicio = int(input(f\"Ingrese el primer numero de la serie: \"))\n",
        "      # Retornamos el valor final de la sumatoria proveniente de la ejecucion recursiva \n",
        "      return suma_de_series(n_inicio)\n",
        "\n",
        "    # En caso de que los valores de las variables sean pasados como parametro se activa directamente el ELSE\n",
        "    else:\n",
        "      # Verificacion que el segundo numero sea mayor al primero\n",
        "      if n_inicio > n_fin:\n",
        "        n_fin = validar_positivo(n_inicio, n_fin)\n",
        "\n",
        "      # Inicilizacion de contador\n",
        "      sumatoria = 0\n",
        "      \n",
        "      # Recorremos la serie de numeros con un ciclo FOR, tomando el rango desde n_inicio hasta n_fin + 1 para incluir el ultimo numero de la serie en la sumatoria.\n",
        "      for i in range(n_inicio, (n_fin + 1)):\n",
        "        # Sumamos cada numero del rango a la variable \"sumatoria\"\n",
        "        sumatoria +=  i\n",
        "      # Retornamos el valor final de la sumatoria\n",
        "      return sumatoria\n",
        "\n",
        "\n",
        "# Prueba y ejecucion del codigo\n",
        "\n",
        "# Primero ejecutamos pasando valores por parametro\n",
        "print(' Se pasa externamente los valores 56 como limite inferior y 60 como superior.')\n",
        "print('La sumatoria de la serie es: ', suma_de_series(56,60))\n",
        "\n",
        "# Ejecutamos la funcion solicitando los valores limite de la serie\n",
        "print('La sumatoria de la serie es: ', suma_de_series())"
      ]
    }
  ]
}