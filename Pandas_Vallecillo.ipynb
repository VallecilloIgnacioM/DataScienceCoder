{
  "nbformat": 4,
  "nbformat_minor": 0,
  "metadata": {
    "colab": {
      "name": "Pandas_Vallecillo.ipynb",
      "provenance": [],
      "authorship_tag": "ABX9TyOsxXGrNMFBbp5ZNC84xLAn",
      "include_colab_link": true
    },
    "kernelspec": {
      "name": "python3",
      "display_name": "Python 3"
    },
    "language_info": {
      "name": "python"
    }
  },
  "cells": [
    {
      "cell_type": "markdown",
      "metadata": {
        "id": "view-in-github",
        "colab_type": "text"
      },
      "source": [
        "<a href=\"https://colab.research.google.com/github/VallecilloIgnacioM/DataScienceCoder/blob/main/Pandas_Vallecillo.ipynb\" target=\"_parent\"><img src=\"https://colab.research.google.com/assets/colab-badge.svg\" alt=\"Open In Colab\"/></a>"
      ]
    },
    {
      "cell_type": "markdown",
      "source": [
        "**Propiedad de Ignacio Manuel Vallecillo**"
      ],
      "metadata": {
        "id": "sDejHGUxvyk4"
      }
    },
    {
      "cell_type": "markdown",
      "source": [
        "Montaje de Drive y localizacion de la base de datos a utilizar"
      ],
      "metadata": {
        "id": "pzoEGNB1v7Ew"
      }
    },
    {
      "cell_type": "code",
      "source": [
        "from google.colab import drive\n",
        "drive.mount('/content/drive')"
      ],
      "metadata": {
        "colab": {
          "base_uri": "https://localhost:8080/"
        },
        "id": "ZcLDru1pW5Ht",
        "outputId": "7a1ecad9-6b2c-4a44-92c6-ed888ebef590"
      },
      "execution_count": null,
      "outputs": [
        {
          "output_type": "stream",
          "name": "stdout",
          "text": [
            "Mounted at /content/drive\n"
          ]
        }
      ]
    },
    {
      "cell_type": "code",
      "source": [
        "%cd /content/drive/MyDrive/Coderhouse-DataScience2022/29745-data-science/Clase 06 - Introducción a la manipulación de datos con Pandas (Parte II)"
      ],
      "metadata": {
        "colab": {
          "base_uri": "https://localhost:8080/"
        },
        "id": "O-fJfGMgXJED",
        "outputId": "248bf903-8245-4ee5-c458-8145c222b6bb"
      },
      "execution_count": null,
      "outputs": [
        {
          "output_type": "stream",
          "name": "stdout",
          "text": [
            "/content/drive/MyDrive/Coderhouse-DataScience2022/29745-data-science/Clase 06 - Introducción a la manipulación de datos con Pandas (Parte II)\n"
          ]
        }
      ]
    },
    {
      "cell_type": "code",
      "source": [
        "%ls"
      ],
      "metadata": {
        "colab": {
          "base_uri": "https://localhost:8080/"
        },
        "id": "IuHLkZBLXPy1",
        "outputId": "04812de9-6a88-492c-e6b3-e52942899259"
      },
      "execution_count": null,
      "outputs": [
        {
          "output_type": "stream",
          "name": "stdout",
          "text": [
            "'Clase 06 - Guión de Clase.docx'\n",
            "'Clase 6 - Introducción a la manipulación de datos con Pandas (Parte II).pptx'\n",
            " pune_1965_to_2002.csv\n",
            " summer_Olympic_medals_1976_to_2008.csv\n",
            "'us_presidents 2.csv'\n"
          ]
        }
      ]
    },
    {
      "cell_type": "markdown",
      "source": [
        "**Importacion de librerias**\n",
        "\n"
      ],
      "metadata": {
        "id": "wqMP5fdMXsa8"
      }
    },
    {
      "cell_type": "code",
      "source": [
        "import pandas as pd\n",
        "import numpy as np"
      ],
      "metadata": {
        "id": "uYO1FUwfXr7B"
      },
      "execution_count": null,
      "outputs": []
    },
    {
      "cell_type": "markdown",
      "source": [
        "# 1. Construir un objeto de series de tiempo con el índice igual al año de los juegos olímpicos"
      ],
      "metadata": {
        "id": "TDBIX4yEdwFH"
      }
    },
    {
      "cell_type": "markdown",
      "source": [
        "Praparacion de los datos"
      ],
      "metadata": {
        "id": "k3k6q-1SeFf1"
      }
    },
    {
      "cell_type": "code",
      "source": [
        "df_olimpia = pd.read_csv('summer_Olympic_medals_1976_to_2008.csv', encoding='latin-1')\n",
        "# Limpiar de NaN la columna Year del df\n",
        "df_olimpia = df_olimpia.dropna(subset=['Year'])"
      ],
      "metadata": {
        "id": "3P7MzAzeXRS1"
      },
      "execution_count": null,
      "outputs": []
    },
    {
      "cell_type": "code",
      "source": [
        "# Obtenemos los años como lista para utilizar de indices\n",
        "indice = list(df_olimpia.Year)\n",
        "# Transformamos los indices en valores Int\n",
        "indice = [int(x) for x in indice] "
      ],
      "metadata": {
        "id": "PZHfdoMQYNho"
      },
      "execution_count": null,
      "outputs": []
    },
    {
      "cell_type": "code",
      "source": [
        "# Eliminamos la columna Year, ya que usaremos la misma para la indexacion.\n",
        "df_olimpia = df_olimpia.drop('Year',axis=1)"
      ],
      "metadata": {
        "id": "fs0F6bmHuRVt"
      },
      "execution_count": null,
      "outputs": []
    },
    {
      "cell_type": "code",
      "source": [
        "# Obtenemos las columnas.\n",
        "columnas = df_olimpia.columns[0:]\n",
        "columnas"
      ],
      "metadata": {
        "colab": {
          "base_uri": "https://localhost:8080/"
        },
        "id": "vDvTKMF3gC1P",
        "outputId": "b4515748-3f48-4213-ad83-05f9644cbf8d"
      },
      "execution_count": null,
      "outputs": [
        {
          "output_type": "execute_result",
          "data": {
            "text/plain": [
              "Index(['City', 'Sport', 'Discipline', 'Event', 'Athlete', 'Gender',\n",
              "       'Country_Code', 'Country', 'Event_gender', 'Medal'],\n",
              "      dtype='object')"
            ]
          },
          "metadata": {},
          "execution_count": 8
        }
      ]
    },
    {
      "cell_type": "code",
      "source": [
        "# Obtenemos todas las filas\n",
        "values = df_olimpia.values[:,:]"
      ],
      "metadata": {
        "id": "BLeEa7T2jSXX"
      },
      "execution_count": null,
      "outputs": []
    },
    {
      "cell_type": "markdown",
      "source": [
        "Creamos el DataFrame con los Años como Indices"
      ],
      "metadata": {
        "id": "71YeDAWPZ02g"
      }
    },
    {
      "cell_type": "code",
      "source": [
        "df_olimpia_year = pd.DataFrame(values, index=indice, columns=columnas)\n",
        "#df_olimpia_year = df_olimpia_year.dropna(axis=0)\n",
        "df_olimpia_year.tail()"
      ],
      "metadata": {
        "colab": {
          "base_uri": "https://localhost:8080/",
          "height": 206
        },
        "id": "voyT8iXajFKP",
        "outputId": "89b47615-c128-43bf-9c4d-bd034603cb81"
      },
      "execution_count": null,
      "outputs": [
        {
          "output_type": "execute_result",
          "data": {
            "text/plain": [
              "         City      Sport       Discipline       Event              Athlete  \\\n",
              "2008  Beijing  Wrestling  Wrestling Gre-R   66 - 74kg   GUENOT, Christophe   \n",
              "2008  Beijing  Wrestling  Wrestling Gre-R   66 - 74kg  KVIRKELIA, Manuchar   \n",
              "2008  Beijing  Wrestling  Wrestling Gre-R   55 - 60kg     RAHIMOV, Vitaliy   \n",
              "2008  Beijing  Wrestling  Wrestling Gre-R   60 - 66kg       GUENOT, Steeve   \n",
              "2008  Beijing  Wrestling  Wrestling Gre-R  96 - 120kg        LOPEZ, Mijain   \n",
              "\n",
              "     Gender Country_Code     Country Event_gender   Medal  \n",
              "2008    Men          FRA      France            M  Bronze  \n",
              "2008    Men          GEO     Georgia            M    Gold  \n",
              "2008    Men          AZE  Azerbaijan            M  Silver  \n",
              "2008    Men          FRA      France            M    Gold  \n",
              "2008    Men          CUB        Cuba            M    Gold  "
            ],
            "text/html": [
              "\n",
              "  <div id=\"df-49238a08-f63b-400d-a51a-54ce1574df82\">\n",
              "    <div class=\"colab-df-container\">\n",
              "      <div>\n",
              "<style scoped>\n",
              "    .dataframe tbody tr th:only-of-type {\n",
              "        vertical-align: middle;\n",
              "    }\n",
              "\n",
              "    .dataframe tbody tr th {\n",
              "        vertical-align: top;\n",
              "    }\n",
              "\n",
              "    .dataframe thead th {\n",
              "        text-align: right;\n",
              "    }\n",
              "</style>\n",
              "<table border=\"1\" class=\"dataframe\">\n",
              "  <thead>\n",
              "    <tr style=\"text-align: right;\">\n",
              "      <th></th>\n",
              "      <th>City</th>\n",
              "      <th>Sport</th>\n",
              "      <th>Discipline</th>\n",
              "      <th>Event</th>\n",
              "      <th>Athlete</th>\n",
              "      <th>Gender</th>\n",
              "      <th>Country_Code</th>\n",
              "      <th>Country</th>\n",
              "      <th>Event_gender</th>\n",
              "      <th>Medal</th>\n",
              "    </tr>\n",
              "  </thead>\n",
              "  <tbody>\n",
              "    <tr>\n",
              "      <th>2008</th>\n",
              "      <td>Beijing</td>\n",
              "      <td>Wrestling</td>\n",
              "      <td>Wrestling Gre-R</td>\n",
              "      <td>66 - 74kg</td>\n",
              "      <td>GUENOT, Christophe</td>\n",
              "      <td>Men</td>\n",
              "      <td>FRA</td>\n",
              "      <td>France</td>\n",
              "      <td>M</td>\n",
              "      <td>Bronze</td>\n",
              "    </tr>\n",
              "    <tr>\n",
              "      <th>2008</th>\n",
              "      <td>Beijing</td>\n",
              "      <td>Wrestling</td>\n",
              "      <td>Wrestling Gre-R</td>\n",
              "      <td>66 - 74kg</td>\n",
              "      <td>KVIRKELIA, Manuchar</td>\n",
              "      <td>Men</td>\n",
              "      <td>GEO</td>\n",
              "      <td>Georgia</td>\n",
              "      <td>M</td>\n",
              "      <td>Gold</td>\n",
              "    </tr>\n",
              "    <tr>\n",
              "      <th>2008</th>\n",
              "      <td>Beijing</td>\n",
              "      <td>Wrestling</td>\n",
              "      <td>Wrestling Gre-R</td>\n",
              "      <td>55 - 60kg</td>\n",
              "      <td>RAHIMOV, Vitaliy</td>\n",
              "      <td>Men</td>\n",
              "      <td>AZE</td>\n",
              "      <td>Azerbaijan</td>\n",
              "      <td>M</td>\n",
              "      <td>Silver</td>\n",
              "    </tr>\n",
              "    <tr>\n",
              "      <th>2008</th>\n",
              "      <td>Beijing</td>\n",
              "      <td>Wrestling</td>\n",
              "      <td>Wrestling Gre-R</td>\n",
              "      <td>60 - 66kg</td>\n",
              "      <td>GUENOT, Steeve</td>\n",
              "      <td>Men</td>\n",
              "      <td>FRA</td>\n",
              "      <td>France</td>\n",
              "      <td>M</td>\n",
              "      <td>Gold</td>\n",
              "    </tr>\n",
              "    <tr>\n",
              "      <th>2008</th>\n",
              "      <td>Beijing</td>\n",
              "      <td>Wrestling</td>\n",
              "      <td>Wrestling Gre-R</td>\n",
              "      <td>96 - 120kg</td>\n",
              "      <td>LOPEZ, Mijain</td>\n",
              "      <td>Men</td>\n",
              "      <td>CUB</td>\n",
              "      <td>Cuba</td>\n",
              "      <td>M</td>\n",
              "      <td>Gold</td>\n",
              "    </tr>\n",
              "  </tbody>\n",
              "</table>\n",
              "</div>\n",
              "      <button class=\"colab-df-convert\" onclick=\"convertToInteractive('df-49238a08-f63b-400d-a51a-54ce1574df82')\"\n",
              "              title=\"Convert this dataframe to an interactive table.\"\n",
              "              style=\"display:none;\">\n",
              "        \n",
              "  <svg xmlns=\"http://www.w3.org/2000/svg\" height=\"24px\"viewBox=\"0 0 24 24\"\n",
              "       width=\"24px\">\n",
              "    <path d=\"M0 0h24v24H0V0z\" fill=\"none\"/>\n",
              "    <path d=\"M18.56 5.44l.94 2.06.94-2.06 2.06-.94-2.06-.94-.94-2.06-.94 2.06-2.06.94zm-11 1L8.5 8.5l.94-2.06 2.06-.94-2.06-.94L8.5 2.5l-.94 2.06-2.06.94zm10 10l.94 2.06.94-2.06 2.06-.94-2.06-.94-.94-2.06-.94 2.06-2.06.94z\"/><path d=\"M17.41 7.96l-1.37-1.37c-.4-.4-.92-.59-1.43-.59-.52 0-1.04.2-1.43.59L10.3 9.45l-7.72 7.72c-.78.78-.78 2.05 0 2.83L4 21.41c.39.39.9.59 1.41.59.51 0 1.02-.2 1.41-.59l7.78-7.78 2.81-2.81c.8-.78.8-2.07 0-2.86zM5.41 20L4 18.59l7.72-7.72 1.47 1.35L5.41 20z\"/>\n",
              "  </svg>\n",
              "      </button>\n",
              "      \n",
              "  <style>\n",
              "    .colab-df-container {\n",
              "      display:flex;\n",
              "      flex-wrap:wrap;\n",
              "      gap: 12px;\n",
              "    }\n",
              "\n",
              "    .colab-df-convert {\n",
              "      background-color: #E8F0FE;\n",
              "      border: none;\n",
              "      border-radius: 50%;\n",
              "      cursor: pointer;\n",
              "      display: none;\n",
              "      fill: #1967D2;\n",
              "      height: 32px;\n",
              "      padding: 0 0 0 0;\n",
              "      width: 32px;\n",
              "    }\n",
              "\n",
              "    .colab-df-convert:hover {\n",
              "      background-color: #E2EBFA;\n",
              "      box-shadow: 0px 1px 2px rgba(60, 64, 67, 0.3), 0px 1px 3px 1px rgba(60, 64, 67, 0.15);\n",
              "      fill: #174EA6;\n",
              "    }\n",
              "\n",
              "    [theme=dark] .colab-df-convert {\n",
              "      background-color: #3B4455;\n",
              "      fill: #D2E3FC;\n",
              "    }\n",
              "\n",
              "    [theme=dark] .colab-df-convert:hover {\n",
              "      background-color: #434B5C;\n",
              "      box-shadow: 0px 1px 3px 1px rgba(0, 0, 0, 0.15);\n",
              "      filter: drop-shadow(0px 1px 2px rgba(0, 0, 0, 0.3));\n",
              "      fill: #FFFFFF;\n",
              "    }\n",
              "  </style>\n",
              "\n",
              "      <script>\n",
              "        const buttonEl =\n",
              "          document.querySelector('#df-49238a08-f63b-400d-a51a-54ce1574df82 button.colab-df-convert');\n",
              "        buttonEl.style.display =\n",
              "          google.colab.kernel.accessAllowed ? 'block' : 'none';\n",
              "\n",
              "        async function convertToInteractive(key) {\n",
              "          const element = document.querySelector('#df-49238a08-f63b-400d-a51a-54ce1574df82');\n",
              "          const dataTable =\n",
              "            await google.colab.kernel.invokeFunction('convertToInteractive',\n",
              "                                                     [key], {});\n",
              "          if (!dataTable) return;\n",
              "\n",
              "          const docLinkHtml = 'Like what you see? Visit the ' +\n",
              "            '<a target=\"_blank\" href=https://colab.research.google.com/notebooks/data_table.ipynb>data table notebook</a>'\n",
              "            + ' to learn more about interactive tables.';\n",
              "          element.innerHTML = '';\n",
              "          dataTable['output_type'] = 'display_data';\n",
              "          await google.colab.output.renderOutput(dataTable, element);\n",
              "          const docLink = document.createElement('div');\n",
              "          docLink.innerHTML = docLinkHtml;\n",
              "          element.appendChild(docLink);\n",
              "        }\n",
              "      </script>\n",
              "    </div>\n",
              "  </div>\n",
              "  "
            ]
          },
          "metadata": {},
          "execution_count": 10
        }
      ]
    },
    {
      "cell_type": "markdown",
      "source": [
        "# 2. Separar nombres de apellidos en dos columnas distintas usando la coma como separador"
      ],
      "metadata": {
        "id": "s12ZrpzLgKyD"
      }
    },
    {
      "cell_type": "code",
      "source": [
        "# Creamos una Serie en base a la columna Athlete para poder manipularla.\n",
        "Athlete_nombres = pd.Series(df_olimpia_year['Athlete'])\n",
        "\n",
        "# Separamos los apellidos de los nombres con la funcion split() pasandole a partir de que patron queremos dividirlo, en este paso ','.\n",
        "Lista_Apellido_Nombre = Athlete_nombres.str.split(pat=',') \n",
        "\n",
        "# Guardamos apellidos y nombres por separado para crear el DF asi visualizarlo en forma de tabla\n",
        "apellidos = Lista_Apellido_Nombre.str[0]\n",
        "nombres = Lista_Apellido_Nombre.str[1]\n",
        "\n",
        "# Creacion del DataFrame con los apellidos y nombre por separado en dos columnas\n",
        "df_name= pd.DataFrame({'Apellido':apellidos, 'Nombre':nombres})\n",
        "df_name.tail()"
      ],
      "metadata": {
        "id": "0xEXd9j2gNjt",
        "colab": {
          "base_uri": "https://localhost:8080/",
          "height": 206
        },
        "outputId": "35a99c4c-8352-4608-ffe2-528cf353eb5a"
      },
      "execution_count": null,
      "outputs": [
        {
          "output_type": "execute_result",
          "data": {
            "text/plain": [
              "       Apellido       Nombre\n",
              "2008     GUENOT   Christophe\n",
              "2008  KVIRKELIA     Manuchar\n",
              "2008    RAHIMOV      Vitaliy\n",
              "2008     GUENOT       Steeve\n",
              "2008      LOPEZ       Mijain"
            ],
            "text/html": [
              "\n",
              "  <div id=\"df-0102fd72-1b08-46b1-9cca-f459518d71ee\">\n",
              "    <div class=\"colab-df-container\">\n",
              "      <div>\n",
              "<style scoped>\n",
              "    .dataframe tbody tr th:only-of-type {\n",
              "        vertical-align: middle;\n",
              "    }\n",
              "\n",
              "    .dataframe tbody tr th {\n",
              "        vertical-align: top;\n",
              "    }\n",
              "\n",
              "    .dataframe thead th {\n",
              "        text-align: right;\n",
              "    }\n",
              "</style>\n",
              "<table border=\"1\" class=\"dataframe\">\n",
              "  <thead>\n",
              "    <tr style=\"text-align: right;\">\n",
              "      <th></th>\n",
              "      <th>Apellido</th>\n",
              "      <th>Nombre</th>\n",
              "    </tr>\n",
              "  </thead>\n",
              "  <tbody>\n",
              "    <tr>\n",
              "      <th>2008</th>\n",
              "      <td>GUENOT</td>\n",
              "      <td>Christophe</td>\n",
              "    </tr>\n",
              "    <tr>\n",
              "      <th>2008</th>\n",
              "      <td>KVIRKELIA</td>\n",
              "      <td>Manuchar</td>\n",
              "    </tr>\n",
              "    <tr>\n",
              "      <th>2008</th>\n",
              "      <td>RAHIMOV</td>\n",
              "      <td>Vitaliy</td>\n",
              "    </tr>\n",
              "    <tr>\n",
              "      <th>2008</th>\n",
              "      <td>GUENOT</td>\n",
              "      <td>Steeve</td>\n",
              "    </tr>\n",
              "    <tr>\n",
              "      <th>2008</th>\n",
              "      <td>LOPEZ</td>\n",
              "      <td>Mijain</td>\n",
              "    </tr>\n",
              "  </tbody>\n",
              "</table>\n",
              "</div>\n",
              "      <button class=\"colab-df-convert\" onclick=\"convertToInteractive('df-0102fd72-1b08-46b1-9cca-f459518d71ee')\"\n",
              "              title=\"Convert this dataframe to an interactive table.\"\n",
              "              style=\"display:none;\">\n",
              "        \n",
              "  <svg xmlns=\"http://www.w3.org/2000/svg\" height=\"24px\"viewBox=\"0 0 24 24\"\n",
              "       width=\"24px\">\n",
              "    <path d=\"M0 0h24v24H0V0z\" fill=\"none\"/>\n",
              "    <path d=\"M18.56 5.44l.94 2.06.94-2.06 2.06-.94-2.06-.94-.94-2.06-.94 2.06-2.06.94zm-11 1L8.5 8.5l.94-2.06 2.06-.94-2.06-.94L8.5 2.5l-.94 2.06-2.06.94zm10 10l.94 2.06.94-2.06 2.06-.94-2.06-.94-.94-2.06-.94 2.06-2.06.94z\"/><path d=\"M17.41 7.96l-1.37-1.37c-.4-.4-.92-.59-1.43-.59-.52 0-1.04.2-1.43.59L10.3 9.45l-7.72 7.72c-.78.78-.78 2.05 0 2.83L4 21.41c.39.39.9.59 1.41.59.51 0 1.02-.2 1.41-.59l7.78-7.78 2.81-2.81c.8-.78.8-2.07 0-2.86zM5.41 20L4 18.59l7.72-7.72 1.47 1.35L5.41 20z\"/>\n",
              "  </svg>\n",
              "      </button>\n",
              "      \n",
              "  <style>\n",
              "    .colab-df-container {\n",
              "      display:flex;\n",
              "      flex-wrap:wrap;\n",
              "      gap: 12px;\n",
              "    }\n",
              "\n",
              "    .colab-df-convert {\n",
              "      background-color: #E8F0FE;\n",
              "      border: none;\n",
              "      border-radius: 50%;\n",
              "      cursor: pointer;\n",
              "      display: none;\n",
              "      fill: #1967D2;\n",
              "      height: 32px;\n",
              "      padding: 0 0 0 0;\n",
              "      width: 32px;\n",
              "    }\n",
              "\n",
              "    .colab-df-convert:hover {\n",
              "      background-color: #E2EBFA;\n",
              "      box-shadow: 0px 1px 2px rgba(60, 64, 67, 0.3), 0px 1px 3px 1px rgba(60, 64, 67, 0.15);\n",
              "      fill: #174EA6;\n",
              "    }\n",
              "\n",
              "    [theme=dark] .colab-df-convert {\n",
              "      background-color: #3B4455;\n",
              "      fill: #D2E3FC;\n",
              "    }\n",
              "\n",
              "    [theme=dark] .colab-df-convert:hover {\n",
              "      background-color: #434B5C;\n",
              "      box-shadow: 0px 1px 3px 1px rgba(0, 0, 0, 0.15);\n",
              "      filter: drop-shadow(0px 1px 2px rgba(0, 0, 0, 0.3));\n",
              "      fill: #FFFFFF;\n",
              "    }\n",
              "  </style>\n",
              "\n",
              "      <script>\n",
              "        const buttonEl =\n",
              "          document.querySelector('#df-0102fd72-1b08-46b1-9cca-f459518d71ee button.colab-df-convert');\n",
              "        buttonEl.style.display =\n",
              "          google.colab.kernel.accessAllowed ? 'block' : 'none';\n",
              "\n",
              "        async function convertToInteractive(key) {\n",
              "          const element = document.querySelector('#df-0102fd72-1b08-46b1-9cca-f459518d71ee');\n",
              "          const dataTable =\n",
              "            await google.colab.kernel.invokeFunction('convertToInteractive',\n",
              "                                                     [key], {});\n",
              "          if (!dataTable) return;\n",
              "\n",
              "          const docLinkHtml = 'Like what you see? Visit the ' +\n",
              "            '<a target=\"_blank\" href=https://colab.research.google.com/notebooks/data_table.ipynb>data table notebook</a>'\n",
              "            + ' to learn more about interactive tables.';\n",
              "          element.innerHTML = '';\n",
              "          dataTable['output_type'] = 'display_data';\n",
              "          await google.colab.output.renderOutput(dataTable, element);\n",
              "          const docLink = document.createElement('div');\n",
              "          docLink.innerHTML = docLinkHtml;\n",
              "          element.appendChild(docLink);\n",
              "        }\n",
              "      </script>\n",
              "    </div>\n",
              "  </div>\n",
              "  "
            ]
          },
          "metadata": {},
          "execution_count": 11
        }
      ]
    },
    {
      "cell_type": "markdown",
      "source": [
        "# 3. Obtener medidas resumen del conjunto de datos. Cuál es el país que ganó más medallas?"
      ],
      "metadata": {
        "id": "fklNRp-os--X"
      }
    },
    {
      "cell_type": "code",
      "source": [
        "df_olimpia_year.describe()"
      ],
      "metadata": {
        "id": "jhblj33MtIKK",
        "colab": {
          "base_uri": "https://localhost:8080/",
          "height": 175
        },
        "outputId": "6dedf230-8632-41e4-8b4f-0c2db37074ba"
      },
      "execution_count": null,
      "outputs": [
        {
          "output_type": "execute_result",
          "data": {
            "text/plain": [
              "           City     Sport Discipline   Event          Athlete Gender  \\\n",
              "count     15316     15316      15316   15316            15316  15316   \n",
              "unique        9        28         41     293            11337      2   \n",
              "top     Beijing  Aquatics  Athletics  hockey  PHELPS, Michael    Men   \n",
              "freq       2042      2210       1523     817               16   9388   \n",
              "\n",
              "       Country_Code        Country Event_gender   Medal  \n",
              "count         15316          15316        15316   15316  \n",
              "unique          128            127            3       3  \n",
              "top             USA  United States            M  Bronze  \n",
              "freq           1992           1992         8817    5258  "
            ],
            "text/html": [
              "\n",
              "  <div id=\"df-e7a6140c-afc0-448a-8b21-e397a2a1aa3e\">\n",
              "    <div class=\"colab-df-container\">\n",
              "      <div>\n",
              "<style scoped>\n",
              "    .dataframe tbody tr th:only-of-type {\n",
              "        vertical-align: middle;\n",
              "    }\n",
              "\n",
              "    .dataframe tbody tr th {\n",
              "        vertical-align: top;\n",
              "    }\n",
              "\n",
              "    .dataframe thead th {\n",
              "        text-align: right;\n",
              "    }\n",
              "</style>\n",
              "<table border=\"1\" class=\"dataframe\">\n",
              "  <thead>\n",
              "    <tr style=\"text-align: right;\">\n",
              "      <th></th>\n",
              "      <th>City</th>\n",
              "      <th>Sport</th>\n",
              "      <th>Discipline</th>\n",
              "      <th>Event</th>\n",
              "      <th>Athlete</th>\n",
              "      <th>Gender</th>\n",
              "      <th>Country_Code</th>\n",
              "      <th>Country</th>\n",
              "      <th>Event_gender</th>\n",
              "      <th>Medal</th>\n",
              "    </tr>\n",
              "  </thead>\n",
              "  <tbody>\n",
              "    <tr>\n",
              "      <th>count</th>\n",
              "      <td>15316</td>\n",
              "      <td>15316</td>\n",
              "      <td>15316</td>\n",
              "      <td>15316</td>\n",
              "      <td>15316</td>\n",
              "      <td>15316</td>\n",
              "      <td>15316</td>\n",
              "      <td>15316</td>\n",
              "      <td>15316</td>\n",
              "      <td>15316</td>\n",
              "    </tr>\n",
              "    <tr>\n",
              "      <th>unique</th>\n",
              "      <td>9</td>\n",
              "      <td>28</td>\n",
              "      <td>41</td>\n",
              "      <td>293</td>\n",
              "      <td>11337</td>\n",
              "      <td>2</td>\n",
              "      <td>128</td>\n",
              "      <td>127</td>\n",
              "      <td>3</td>\n",
              "      <td>3</td>\n",
              "    </tr>\n",
              "    <tr>\n",
              "      <th>top</th>\n",
              "      <td>Beijing</td>\n",
              "      <td>Aquatics</td>\n",
              "      <td>Athletics</td>\n",
              "      <td>hockey</td>\n",
              "      <td>PHELPS, Michael</td>\n",
              "      <td>Men</td>\n",
              "      <td>USA</td>\n",
              "      <td>United States</td>\n",
              "      <td>M</td>\n",
              "      <td>Bronze</td>\n",
              "    </tr>\n",
              "    <tr>\n",
              "      <th>freq</th>\n",
              "      <td>2042</td>\n",
              "      <td>2210</td>\n",
              "      <td>1523</td>\n",
              "      <td>817</td>\n",
              "      <td>16</td>\n",
              "      <td>9388</td>\n",
              "      <td>1992</td>\n",
              "      <td>1992</td>\n",
              "      <td>8817</td>\n",
              "      <td>5258</td>\n",
              "    </tr>\n",
              "  </tbody>\n",
              "</table>\n",
              "</div>\n",
              "      <button class=\"colab-df-convert\" onclick=\"convertToInteractive('df-e7a6140c-afc0-448a-8b21-e397a2a1aa3e')\"\n",
              "              title=\"Convert this dataframe to an interactive table.\"\n",
              "              style=\"display:none;\">\n",
              "        \n",
              "  <svg xmlns=\"http://www.w3.org/2000/svg\" height=\"24px\"viewBox=\"0 0 24 24\"\n",
              "       width=\"24px\">\n",
              "    <path d=\"M0 0h24v24H0V0z\" fill=\"none\"/>\n",
              "    <path d=\"M18.56 5.44l.94 2.06.94-2.06 2.06-.94-2.06-.94-.94-2.06-.94 2.06-2.06.94zm-11 1L8.5 8.5l.94-2.06 2.06-.94-2.06-.94L8.5 2.5l-.94 2.06-2.06.94zm10 10l.94 2.06.94-2.06 2.06-.94-2.06-.94-.94-2.06-.94 2.06-2.06.94z\"/><path d=\"M17.41 7.96l-1.37-1.37c-.4-.4-.92-.59-1.43-.59-.52 0-1.04.2-1.43.59L10.3 9.45l-7.72 7.72c-.78.78-.78 2.05 0 2.83L4 21.41c.39.39.9.59 1.41.59.51 0 1.02-.2 1.41-.59l7.78-7.78 2.81-2.81c.8-.78.8-2.07 0-2.86zM5.41 20L4 18.59l7.72-7.72 1.47 1.35L5.41 20z\"/>\n",
              "  </svg>\n",
              "      </button>\n",
              "      \n",
              "  <style>\n",
              "    .colab-df-container {\n",
              "      display:flex;\n",
              "      flex-wrap:wrap;\n",
              "      gap: 12px;\n",
              "    }\n",
              "\n",
              "    .colab-df-convert {\n",
              "      background-color: #E8F0FE;\n",
              "      border: none;\n",
              "      border-radius: 50%;\n",
              "      cursor: pointer;\n",
              "      display: none;\n",
              "      fill: #1967D2;\n",
              "      height: 32px;\n",
              "      padding: 0 0 0 0;\n",
              "      width: 32px;\n",
              "    }\n",
              "\n",
              "    .colab-df-convert:hover {\n",
              "      background-color: #E2EBFA;\n",
              "      box-shadow: 0px 1px 2px rgba(60, 64, 67, 0.3), 0px 1px 3px 1px rgba(60, 64, 67, 0.15);\n",
              "      fill: #174EA6;\n",
              "    }\n",
              "\n",
              "    [theme=dark] .colab-df-convert {\n",
              "      background-color: #3B4455;\n",
              "      fill: #D2E3FC;\n",
              "    }\n",
              "\n",
              "    [theme=dark] .colab-df-convert:hover {\n",
              "      background-color: #434B5C;\n",
              "      box-shadow: 0px 1px 3px 1px rgba(0, 0, 0, 0.15);\n",
              "      filter: drop-shadow(0px 1px 2px rgba(0, 0, 0, 0.3));\n",
              "      fill: #FFFFFF;\n",
              "    }\n",
              "  </style>\n",
              "\n",
              "      <script>\n",
              "        const buttonEl =\n",
              "          document.querySelector('#df-e7a6140c-afc0-448a-8b21-e397a2a1aa3e button.colab-df-convert');\n",
              "        buttonEl.style.display =\n",
              "          google.colab.kernel.accessAllowed ? 'block' : 'none';\n",
              "\n",
              "        async function convertToInteractive(key) {\n",
              "          const element = document.querySelector('#df-e7a6140c-afc0-448a-8b21-e397a2a1aa3e');\n",
              "          const dataTable =\n",
              "            await google.colab.kernel.invokeFunction('convertToInteractive',\n",
              "                                                     [key], {});\n",
              "          if (!dataTable) return;\n",
              "\n",
              "          const docLinkHtml = 'Like what you see? Visit the ' +\n",
              "            '<a target=\"_blank\" href=https://colab.research.google.com/notebooks/data_table.ipynb>data table notebook</a>'\n",
              "            + ' to learn more about interactive tables.';\n",
              "          element.innerHTML = '';\n",
              "          dataTable['output_type'] = 'display_data';\n",
              "          await google.colab.output.renderOutput(dataTable, element);\n",
              "          const docLink = document.createElement('div');\n",
              "          docLink.innerHTML = docLinkHtml;\n",
              "          element.appendChild(docLink);\n",
              "        }\n",
              "      </script>\n",
              "    </div>\n",
              "  </div>\n",
              "  "
            ]
          },
          "metadata": {},
          "execution_count": 12
        }
      ]
    },
    {
      "cell_type": "markdown",
      "source": [
        "Observamos que dentro de las medidas resumen se encuentran los **Top** de cada categoria, es decir, aquellos datos que mas veces se repiten por cada columna. \n",
        "En la columna *Country* vemos que el pais con mayor cantidad de medallas obtenidas en todas las presentaciones de los JJOO es **Estados Unidos**."
      ],
      "metadata": {
        "id": "NUeciuRNUlm0"
      }
    },
    {
      "cell_type": "markdown",
      "source": [
        "# 4. Construir una tabla que muestre cuántas medallas obtuvieron los hombres en total en cada año que se realizó el evento.\n"
      ],
      "metadata": {
        "id": "n4uhaWo0tIop"
      }
    },
    {
      "cell_type": "markdown",
      "source": [
        "Primero obtenemos la cantidad de medallas obtenidas por los Hombres en cada Año del evento"
      ],
      "metadata": {
        "id": "WNwf_rHmfQK1"
      }
    },
    {
      "cell_type": "code",
      "source": [
        "df_medallas = df_olimpia_year\n",
        "\n",
        "listaH_medallas_x_year = []\n",
        "for i in range(1976,2012,4):\n",
        "  # Para ello, filtramos por Año y por el Genero Men\n",
        "  medallasxyear = df_medallas.loc[(df_medallas.index == i) & (df_medallas['Gender']=='Men')]\n",
        "  # La funcion shape() nos otorga el valor de las filas y columnas. Guardamos el primer valor \n",
        "  medallas = medallasxyear.shape[0]\n",
        "  # Adiciono a la lista cada valor obtenido\n",
        "  listaH_medallas_x_year.append(medallas)"
      ],
      "metadata": {
        "id": "mJRIfHJvtPIL"
      },
      "execution_count": null,
      "outputs": []
    },
    {
      "cell_type": "markdown",
      "source": [
        "Adicionalmente obtenemos la cantidad de medallas obtenidas por las Mujeres en cada Año del evento"
      ],
      "metadata": {
        "id": "yZSsrRB9lQhu"
      }
    },
    {
      "cell_type": "code",
      "source": [
        "listaM_medallas_x_year = []\n",
        "for i in range(1976,2012,4):\n",
        "  # Para ello, filtramos por Año y por el Genero Women\n",
        "  medallasxyear = df_medallas.loc[(df_medallas.index == i) & (df_medallas['Gender']=='Women')]\n",
        "  # La funcion shape() nos otorga el valor de las filas y columnas. Guardamos el primer valor \n",
        "  medallas = medallasxyear.shape[0]\n",
        "  # Adiciono a la lista cada valor obtenido\n",
        "  listaM_medallas_x_year.append(medallas)"
      ],
      "metadata": {
        "id": "DnocYxgRkDn6"
      },
      "execution_count": null,
      "outputs": []
    },
    {
      "cell_type": "markdown",
      "source": [
        "Calculo del Total de medallas por Año"
      ],
      "metadata": {
        "id": "a_TERTGvmAi0"
      }
    },
    {
      "cell_type": "code",
      "source": [
        "lista_medallasTotal_x_year = []\n",
        "for i in range(1976,2012,4):\n",
        "  medallasxyear = df_medallas.loc[(df_medallas.index == i)]\n",
        "  # La funcion shape() nos otorga el valor de las filas y columnas. Guardamos el primer valor \n",
        "  medallas = medallasxyear.shape[0]\n",
        "  # Adiciono a la lista cada valor obtenido\n",
        "  lista_medallasTotal_x_year.append(medallas)\n"
      ],
      "metadata": {
        "id": "AvWRSdIklbTx"
      },
      "execution_count": null,
      "outputs": []
    },
    {
      "cell_type": "markdown",
      "source": [
        "**Creacion de la tabla solicitada**"
      ],
      "metadata": {
        "id": "b5o0o92MfcWD"
      }
    },
    {
      "cell_type": "code",
      "source": [
        "# Creamos indice de años\n",
        "year = [i for i in range(1976,2012,4)]\n",
        "# Creo el Data Frame con los años como indice y la lista de medallas obtenidas por Hombres\n",
        "df_medallas_x_year = pd.DataFrame({'MEDALLAS OBTENIDAS POR HOMBRES':listaH_medallas_x_year},index=year)\n",
        "df_medallas_x_year"
      ],
      "metadata": {
        "colab": {
          "base_uri": "https://localhost:8080/",
          "height": 331
        },
        "id": "8e0Mjwllf2yo",
        "outputId": "742379fa-0719-4a37-8501-92fa9a1b7967"
      },
      "execution_count": null,
      "outputs": [
        {
          "output_type": "execute_result",
          "data": {
            "text/plain": [
              "      MEDALLAS OBTENIDAS POR HOMBRES\n",
              "1976                             924\n",
              "1980                             958\n",
              "1984                             973\n",
              "1988                            1011\n",
              "1992                            1105\n",
              "1996                            1082\n",
              "2000                            1126\n",
              "2004                            1099\n",
              "2008                            1110"
            ],
            "text/html": [
              "\n",
              "  <div id=\"df-83099956-3d97-4cc0-906d-7d02a9cc7244\">\n",
              "    <div class=\"colab-df-container\">\n",
              "      <div>\n",
              "<style scoped>\n",
              "    .dataframe tbody tr th:only-of-type {\n",
              "        vertical-align: middle;\n",
              "    }\n",
              "\n",
              "    .dataframe tbody tr th {\n",
              "        vertical-align: top;\n",
              "    }\n",
              "\n",
              "    .dataframe thead th {\n",
              "        text-align: right;\n",
              "    }\n",
              "</style>\n",
              "<table border=\"1\" class=\"dataframe\">\n",
              "  <thead>\n",
              "    <tr style=\"text-align: right;\">\n",
              "      <th></th>\n",
              "      <th>MEDALLAS OBTENIDAS POR HOMBRES</th>\n",
              "    </tr>\n",
              "  </thead>\n",
              "  <tbody>\n",
              "    <tr>\n",
              "      <th>1976</th>\n",
              "      <td>924</td>\n",
              "    </tr>\n",
              "    <tr>\n",
              "      <th>1980</th>\n",
              "      <td>958</td>\n",
              "    </tr>\n",
              "    <tr>\n",
              "      <th>1984</th>\n",
              "      <td>973</td>\n",
              "    </tr>\n",
              "    <tr>\n",
              "      <th>1988</th>\n",
              "      <td>1011</td>\n",
              "    </tr>\n",
              "    <tr>\n",
              "      <th>1992</th>\n",
              "      <td>1105</td>\n",
              "    </tr>\n",
              "    <tr>\n",
              "      <th>1996</th>\n",
              "      <td>1082</td>\n",
              "    </tr>\n",
              "    <tr>\n",
              "      <th>2000</th>\n",
              "      <td>1126</td>\n",
              "    </tr>\n",
              "    <tr>\n",
              "      <th>2004</th>\n",
              "      <td>1099</td>\n",
              "    </tr>\n",
              "    <tr>\n",
              "      <th>2008</th>\n",
              "      <td>1110</td>\n",
              "    </tr>\n",
              "  </tbody>\n",
              "</table>\n",
              "</div>\n",
              "      <button class=\"colab-df-convert\" onclick=\"convertToInteractive('df-83099956-3d97-4cc0-906d-7d02a9cc7244')\"\n",
              "              title=\"Convert this dataframe to an interactive table.\"\n",
              "              style=\"display:none;\">\n",
              "        \n",
              "  <svg xmlns=\"http://www.w3.org/2000/svg\" height=\"24px\"viewBox=\"0 0 24 24\"\n",
              "       width=\"24px\">\n",
              "    <path d=\"M0 0h24v24H0V0z\" fill=\"none\"/>\n",
              "    <path d=\"M18.56 5.44l.94 2.06.94-2.06 2.06-.94-2.06-.94-.94-2.06-.94 2.06-2.06.94zm-11 1L8.5 8.5l.94-2.06 2.06-.94-2.06-.94L8.5 2.5l-.94 2.06-2.06.94zm10 10l.94 2.06.94-2.06 2.06-.94-2.06-.94-.94-2.06-.94 2.06-2.06.94z\"/><path d=\"M17.41 7.96l-1.37-1.37c-.4-.4-.92-.59-1.43-.59-.52 0-1.04.2-1.43.59L10.3 9.45l-7.72 7.72c-.78.78-.78 2.05 0 2.83L4 21.41c.39.39.9.59 1.41.59.51 0 1.02-.2 1.41-.59l7.78-7.78 2.81-2.81c.8-.78.8-2.07 0-2.86zM5.41 20L4 18.59l7.72-7.72 1.47 1.35L5.41 20z\"/>\n",
              "  </svg>\n",
              "      </button>\n",
              "      \n",
              "  <style>\n",
              "    .colab-df-container {\n",
              "      display:flex;\n",
              "      flex-wrap:wrap;\n",
              "      gap: 12px;\n",
              "    }\n",
              "\n",
              "    .colab-df-convert {\n",
              "      background-color: #E8F0FE;\n",
              "      border: none;\n",
              "      border-radius: 50%;\n",
              "      cursor: pointer;\n",
              "      display: none;\n",
              "      fill: #1967D2;\n",
              "      height: 32px;\n",
              "      padding: 0 0 0 0;\n",
              "      width: 32px;\n",
              "    }\n",
              "\n",
              "    .colab-df-convert:hover {\n",
              "      background-color: #E2EBFA;\n",
              "      box-shadow: 0px 1px 2px rgba(60, 64, 67, 0.3), 0px 1px 3px 1px rgba(60, 64, 67, 0.15);\n",
              "      fill: #174EA6;\n",
              "    }\n",
              "\n",
              "    [theme=dark] .colab-df-convert {\n",
              "      background-color: #3B4455;\n",
              "      fill: #D2E3FC;\n",
              "    }\n",
              "\n",
              "    [theme=dark] .colab-df-convert:hover {\n",
              "      background-color: #434B5C;\n",
              "      box-shadow: 0px 1px 3px 1px rgba(0, 0, 0, 0.15);\n",
              "      filter: drop-shadow(0px 1px 2px rgba(0, 0, 0, 0.3));\n",
              "      fill: #FFFFFF;\n",
              "    }\n",
              "  </style>\n",
              "\n",
              "      <script>\n",
              "        const buttonEl =\n",
              "          document.querySelector('#df-83099956-3d97-4cc0-906d-7d02a9cc7244 button.colab-df-convert');\n",
              "        buttonEl.style.display =\n",
              "          google.colab.kernel.accessAllowed ? 'block' : 'none';\n",
              "\n",
              "        async function convertToInteractive(key) {\n",
              "          const element = document.querySelector('#df-83099956-3d97-4cc0-906d-7d02a9cc7244');\n",
              "          const dataTable =\n",
              "            await google.colab.kernel.invokeFunction('convertToInteractive',\n",
              "                                                     [key], {});\n",
              "          if (!dataTable) return;\n",
              "\n",
              "          const docLinkHtml = 'Like what you see? Visit the ' +\n",
              "            '<a target=\"_blank\" href=https://colab.research.google.com/notebooks/data_table.ipynb>data table notebook</a>'\n",
              "            + ' to learn more about interactive tables.';\n",
              "          element.innerHTML = '';\n",
              "          dataTable['output_type'] = 'display_data';\n",
              "          await google.colab.output.renderOutput(dataTable, element);\n",
              "          const docLink = document.createElement('div');\n",
              "          docLink.innerHTML = docLinkHtml;\n",
              "          element.appendChild(docLink);\n",
              "        }\n",
              "      </script>\n",
              "    </div>\n",
              "  </div>\n",
              "  "
            ]
          },
          "metadata": {},
          "execution_count": 16
        }
      ]
    },
    {
      "cell_type": "markdown",
      "source": [
        "Adicionalmente quise hacer una comparativa de las medallas obtenidas por Hombres y Mujeres, como asi tambien el total por Año"
      ],
      "metadata": {
        "id": "BZqrcPJEks5P"
      }
    },
    {
      "cell_type": "code",
      "source": [
        "df_medallas_x_year = pd.DataFrame({'MEDALLAS OBTENIDAS POR HOMBRES':listaH_medallas_x_year,'MEDALLAS OBTENIDAS POR MUJERES':listaM_medallas_x_year, 'TOTAL': lista_medallasTotal_x_year},index=year)\n",
        "df_medallas_x_year"
      ],
      "metadata": {
        "colab": {
          "base_uri": "https://localhost:8080/",
          "height": 331
        },
        "id": "v0v1xq4vk0Jp",
        "outputId": "f576e653-7da8-4173-b704-da9f6e868d99"
      },
      "execution_count": null,
      "outputs": [
        {
          "output_type": "execute_result",
          "data": {
            "text/plain": [
              "      MEDALLAS OBTENIDAS POR HOMBRES  MEDALLAS OBTENIDAS POR MUJERES  TOTAL\n",
              "1976                             924                             381   1305\n",
              "1980                             958                             429   1387\n",
              "1984                             973                             486   1459\n",
              "1988                            1011                             535   1546\n",
              "1992                            1105                             600   1705\n",
              "1996                            1082                             777   1859\n",
              "2000                            1126                             889   2015\n",
              "2004                            1099                             899   1998\n",
              "2008                            1110                             932   2042"
            ],
            "text/html": [
              "\n",
              "  <div id=\"df-edac3860-cedd-4bb8-a6c5-b82a5dcd0c9d\">\n",
              "    <div class=\"colab-df-container\">\n",
              "      <div>\n",
              "<style scoped>\n",
              "    .dataframe tbody tr th:only-of-type {\n",
              "        vertical-align: middle;\n",
              "    }\n",
              "\n",
              "    .dataframe tbody tr th {\n",
              "        vertical-align: top;\n",
              "    }\n",
              "\n",
              "    .dataframe thead th {\n",
              "        text-align: right;\n",
              "    }\n",
              "</style>\n",
              "<table border=\"1\" class=\"dataframe\">\n",
              "  <thead>\n",
              "    <tr style=\"text-align: right;\">\n",
              "      <th></th>\n",
              "      <th>MEDALLAS OBTENIDAS POR HOMBRES</th>\n",
              "      <th>MEDALLAS OBTENIDAS POR MUJERES</th>\n",
              "      <th>TOTAL</th>\n",
              "    </tr>\n",
              "  </thead>\n",
              "  <tbody>\n",
              "    <tr>\n",
              "      <th>1976</th>\n",
              "      <td>924</td>\n",
              "      <td>381</td>\n",
              "      <td>1305</td>\n",
              "    </tr>\n",
              "    <tr>\n",
              "      <th>1980</th>\n",
              "      <td>958</td>\n",
              "      <td>429</td>\n",
              "      <td>1387</td>\n",
              "    </tr>\n",
              "    <tr>\n",
              "      <th>1984</th>\n",
              "      <td>973</td>\n",
              "      <td>486</td>\n",
              "      <td>1459</td>\n",
              "    </tr>\n",
              "    <tr>\n",
              "      <th>1988</th>\n",
              "      <td>1011</td>\n",
              "      <td>535</td>\n",
              "      <td>1546</td>\n",
              "    </tr>\n",
              "    <tr>\n",
              "      <th>1992</th>\n",
              "      <td>1105</td>\n",
              "      <td>600</td>\n",
              "      <td>1705</td>\n",
              "    </tr>\n",
              "    <tr>\n",
              "      <th>1996</th>\n",
              "      <td>1082</td>\n",
              "      <td>777</td>\n",
              "      <td>1859</td>\n",
              "    </tr>\n",
              "    <tr>\n",
              "      <th>2000</th>\n",
              "      <td>1126</td>\n",
              "      <td>889</td>\n",
              "      <td>2015</td>\n",
              "    </tr>\n",
              "    <tr>\n",
              "      <th>2004</th>\n",
              "      <td>1099</td>\n",
              "      <td>899</td>\n",
              "      <td>1998</td>\n",
              "    </tr>\n",
              "    <tr>\n",
              "      <th>2008</th>\n",
              "      <td>1110</td>\n",
              "      <td>932</td>\n",
              "      <td>2042</td>\n",
              "    </tr>\n",
              "  </tbody>\n",
              "</table>\n",
              "</div>\n",
              "      <button class=\"colab-df-convert\" onclick=\"convertToInteractive('df-edac3860-cedd-4bb8-a6c5-b82a5dcd0c9d')\"\n",
              "              title=\"Convert this dataframe to an interactive table.\"\n",
              "              style=\"display:none;\">\n",
              "        \n",
              "  <svg xmlns=\"http://www.w3.org/2000/svg\" height=\"24px\"viewBox=\"0 0 24 24\"\n",
              "       width=\"24px\">\n",
              "    <path d=\"M0 0h24v24H0V0z\" fill=\"none\"/>\n",
              "    <path d=\"M18.56 5.44l.94 2.06.94-2.06 2.06-.94-2.06-.94-.94-2.06-.94 2.06-2.06.94zm-11 1L8.5 8.5l.94-2.06 2.06-.94-2.06-.94L8.5 2.5l-.94 2.06-2.06.94zm10 10l.94 2.06.94-2.06 2.06-.94-2.06-.94-.94-2.06-.94 2.06-2.06.94z\"/><path d=\"M17.41 7.96l-1.37-1.37c-.4-.4-.92-.59-1.43-.59-.52 0-1.04.2-1.43.59L10.3 9.45l-7.72 7.72c-.78.78-.78 2.05 0 2.83L4 21.41c.39.39.9.59 1.41.59.51 0 1.02-.2 1.41-.59l7.78-7.78 2.81-2.81c.8-.78.8-2.07 0-2.86zM5.41 20L4 18.59l7.72-7.72 1.47 1.35L5.41 20z\"/>\n",
              "  </svg>\n",
              "      </button>\n",
              "      \n",
              "  <style>\n",
              "    .colab-df-container {\n",
              "      display:flex;\n",
              "      flex-wrap:wrap;\n",
              "      gap: 12px;\n",
              "    }\n",
              "\n",
              "    .colab-df-convert {\n",
              "      background-color: #E8F0FE;\n",
              "      border: none;\n",
              "      border-radius: 50%;\n",
              "      cursor: pointer;\n",
              "      display: none;\n",
              "      fill: #1967D2;\n",
              "      height: 32px;\n",
              "      padding: 0 0 0 0;\n",
              "      width: 32px;\n",
              "    }\n",
              "\n",
              "    .colab-df-convert:hover {\n",
              "      background-color: #E2EBFA;\n",
              "      box-shadow: 0px 1px 2px rgba(60, 64, 67, 0.3), 0px 1px 3px 1px rgba(60, 64, 67, 0.15);\n",
              "      fill: #174EA6;\n",
              "    }\n",
              "\n",
              "    [theme=dark] .colab-df-convert {\n",
              "      background-color: #3B4455;\n",
              "      fill: #D2E3FC;\n",
              "    }\n",
              "\n",
              "    [theme=dark] .colab-df-convert:hover {\n",
              "      background-color: #434B5C;\n",
              "      box-shadow: 0px 1px 3px 1px rgba(0, 0, 0, 0.15);\n",
              "      filter: drop-shadow(0px 1px 2px rgba(0, 0, 0, 0.3));\n",
              "      fill: #FFFFFF;\n",
              "    }\n",
              "  </style>\n",
              "\n",
              "      <script>\n",
              "        const buttonEl =\n",
              "          document.querySelector('#df-edac3860-cedd-4bb8-a6c5-b82a5dcd0c9d button.colab-df-convert');\n",
              "        buttonEl.style.display =\n",
              "          google.colab.kernel.accessAllowed ? 'block' : 'none';\n",
              "\n",
              "        async function convertToInteractive(key) {\n",
              "          const element = document.querySelector('#df-edac3860-cedd-4bb8-a6c5-b82a5dcd0c9d');\n",
              "          const dataTable =\n",
              "            await google.colab.kernel.invokeFunction('convertToInteractive',\n",
              "                                                     [key], {});\n",
              "          if (!dataTable) return;\n",
              "\n",
              "          const docLinkHtml = 'Like what you see? Visit the ' +\n",
              "            '<a target=\"_blank\" href=https://colab.research.google.com/notebooks/data_table.ipynb>data table notebook</a>'\n",
              "            + ' to learn more about interactive tables.';\n",
              "          element.innerHTML = '';\n",
              "          dataTable['output_type'] = 'display_data';\n",
              "          await google.colab.output.renderOutput(dataTable, element);\n",
              "          const docLink = document.createElement('div');\n",
              "          docLink.innerHTML = docLinkHtml;\n",
              "          element.appendChild(docLink);\n",
              "        }\n",
              "      </script>\n",
              "    </div>\n",
              "  </div>\n",
              "  "
            ]
          },
          "metadata": {},
          "execution_count": 17
        }
      ]
    }
  ]
}