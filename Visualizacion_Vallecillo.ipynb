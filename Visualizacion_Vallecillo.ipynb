{
  "nbformat": 4,
  "nbformat_minor": 0,
  "metadata": {
    "colab": {
      "name": "Visualizacion_Vallecillo.ipynb",
      "provenance": [],
      "authorship_tag": "ABX9TyNIFWscIaNcA0Yw4kI8X1H5",
      "include_colab_link": true
    },
    "kernelspec": {
      "name": "python3",
      "display_name": "Python 3"
    },
    "language_info": {
      "name": "python"
    }
  },
  "cells": [
    {
      "cell_type": "markdown",
      "metadata": {
        "id": "view-in-github",
        "colab_type": "text"
      },
      "source": [
        "<a href=\"https://colab.research.google.com/github/VallecilloIgnacioM/DataScienceCoder/blob/main/Visualizacion_Vallecillo.ipynb\" target=\"_parent\"><img src=\"https://colab.research.google.com/assets/colab-badge.svg\" alt=\"Open In Colab\"/></a>"
      ]
    },
    {
      "cell_type": "markdown",
      "source": [
        "# **Practica Integradora: Visualización de Python**"
      ],
      "metadata": {
        "id": "BjwlGaUXtQf7"
      }
    },
    {
      "cell_type": "markdown",
      "source": [
        "**Propietario: Ignacio Manuel Vallecillo**"
      ],
      "metadata": {
        "id": "4_2oEoVhrb-R"
      }
    },
    {
      "cell_type": "markdown",
      "source": [
        "# IMPORTACION DE LIBRERIAS Y CONFIGURACION DE ESTILOS"
      ],
      "metadata": {
        "id": "cG5UWbVWfxmS"
      }
    },
    {
      "cell_type": "code",
      "execution_count": null,
      "metadata": {
        "id": "j8A4u-r3ypql"
      },
      "outputs": [],
      "source": [
        "import pandas as pd\n",
        "import numpy as np\n",
        "import matplotlib as mpl\n",
        "import matplotlib.pyplot as plt\n",
        "import seaborn as sns"
      ]
    },
    {
      "cell_type": "code",
      "source": [
        "mpl.style.use('bmh')\n",
        "sns.set(style=\"whitegrid\")\n",
        "sns.color_palette(\"flare\", as_cmap=True)"
      ],
      "metadata": {
        "colab": {
          "base_uri": "https://localhost:8080/"
        },
        "id": "alRWbCWHM5B0",
        "outputId": "38ea7eda-74a1-4266-df8a-2937735892fb"
      },
      "execution_count": null,
      "outputs": [
        {
          "output_type": "execute_result",
          "data": {
            "text/plain": [
              "<matplotlib.colors.ListedColormap at 0x7fd08f8f9510>"
            ]
          },
          "metadata": {},
          "execution_count": 2
        }
      ]
    },
    {
      "cell_type": "markdown",
      "source": [
        "# 1. Cargar este archivo en Python. Realizar estadísticas descriptivas básicas\n"
      ],
      "metadata": {
        "id": "XPzxoHVyAfZG"
      }
    },
    {
      "cell_type": "code",
      "source": [
        "# Se monta el Dataset en una variable para luego copiarla y usarla en  los distintos ejercicios con la configuracion que necesitemos, asi evitar modificar la original.\n",
        "df_datos0 = pd.read_csv('https://drive.google.com/uc?export=download&id=1ZToQzA4F_4XbDXCOAXTWgSyirk2zpHXE')\n",
        "df_datos = df_datos0\n",
        "\n",
        "# Configuramos el index con el ID de los empleados y eliminamos la columna EmpID\n",
        "df_datos.index = df_datos['EmpID']\n",
        "df_datos = df_datos.drop('EmpID', axis='columns')\n",
        "df_datos.head()"
      ],
      "metadata": {
        "colab": {
          "base_uri": "https://localhost:8080/",
          "height": 400
        },
        "id": "1Gqfwblnjwkb",
        "outputId": "7225e80a-1eb1-41ce-87e8-64a65d2458da"
      },
      "execution_count": null,
      "outputs": [
        {
          "output_type": "execute_result",
          "data": {
            "text/plain": [
              "                  Employee_Name  MarriedID  MaritalStatusID  GenderID  \\\n",
              "EmpID                                                                   \n",
              "10026       Adinolfi, Wilson  K          0                0         1   \n",
              "10084  Ait Sidi, Karthikeyan             1                1         1   \n",
              "10196         Akinkuolie, Sarah          1                1         0   \n",
              "10088              Alagbe,Trina          1                1         0   \n",
              "10069          Anderson, Carol           0                2         0   \n",
              "\n",
              "       EmpStatusID  DeptID  PerfScoreID  FromDiversityJobFairID  Salary  \\\n",
              "EmpID                                                                     \n",
              "10026            1       5            4                       0   62506   \n",
              "10084            5       3            3                       0  104437   \n",
              "10196            5       5            3                       0   64955   \n",
              "10088            1       5            3                       0   64991   \n",
              "10069            5       5            3                       0   50825   \n",
              "\n",
              "       Termd  ...     ManagerName ManagerID RecruitmentSource  \\\n",
              "EmpID         ...                                               \n",
              "10026      0  ...  Michael Albert      22.0          LinkedIn   \n",
              "10084      1  ...      Simon Roup       4.0            Indeed   \n",
              "10196      1  ...  Kissy Sullivan      20.0          LinkedIn   \n",
              "10088      0  ...    Elijiah Gray      16.0            Indeed   \n",
              "10069      1  ...  Webster Butler      39.0     Google Search   \n",
              "\n",
              "       PerformanceScore EngagementSurvey EmpSatisfaction SpecialProjectsCount  \\\n",
              "EmpID                                                                           \n",
              "10026           Exceeds             4.60               5                    0   \n",
              "10084       Fully Meets             4.96               3                    6   \n",
              "10196       Fully Meets             3.02               3                    0   \n",
              "10088       Fully Meets             4.84               5                    0   \n",
              "10069       Fully Meets             5.00               4                    0   \n",
              "\n",
              "      LastPerformanceReview_Date DaysLateLast30 Absences  \n",
              "EmpID                                                     \n",
              "10026                  1/17/2019              0        1  \n",
              "10084                  2/24/2016              0       17  \n",
              "10196                  5/15/2012              0        3  \n",
              "10088                   1/3/2019              0       15  \n",
              "10069                   2/1/2016              0        2  \n",
              "\n",
              "[5 rows x 35 columns]"
            ],
            "text/html": [
              "\n",
              "  <div id=\"df-d6fd850d-530d-4be9-babd-8b954ad0a820\">\n",
              "    <div class=\"colab-df-container\">\n",
              "      <div>\n",
              "<style scoped>\n",
              "    .dataframe tbody tr th:only-of-type {\n",
              "        vertical-align: middle;\n",
              "    }\n",
              "\n",
              "    .dataframe tbody tr th {\n",
              "        vertical-align: top;\n",
              "    }\n",
              "\n",
              "    .dataframe thead th {\n",
              "        text-align: right;\n",
              "    }\n",
              "</style>\n",
              "<table border=\"1\" class=\"dataframe\">\n",
              "  <thead>\n",
              "    <tr style=\"text-align: right;\">\n",
              "      <th></th>\n",
              "      <th>Employee_Name</th>\n",
              "      <th>MarriedID</th>\n",
              "      <th>MaritalStatusID</th>\n",
              "      <th>GenderID</th>\n",
              "      <th>EmpStatusID</th>\n",
              "      <th>DeptID</th>\n",
              "      <th>PerfScoreID</th>\n",
              "      <th>FromDiversityJobFairID</th>\n",
              "      <th>Salary</th>\n",
              "      <th>Termd</th>\n",
              "      <th>...</th>\n",
              "      <th>ManagerName</th>\n",
              "      <th>ManagerID</th>\n",
              "      <th>RecruitmentSource</th>\n",
              "      <th>PerformanceScore</th>\n",
              "      <th>EngagementSurvey</th>\n",
              "      <th>EmpSatisfaction</th>\n",
              "      <th>SpecialProjectsCount</th>\n",
              "      <th>LastPerformanceReview_Date</th>\n",
              "      <th>DaysLateLast30</th>\n",
              "      <th>Absences</th>\n",
              "    </tr>\n",
              "    <tr>\n",
              "      <th>EmpID</th>\n",
              "      <th></th>\n",
              "      <th></th>\n",
              "      <th></th>\n",
              "      <th></th>\n",
              "      <th></th>\n",
              "      <th></th>\n",
              "      <th></th>\n",
              "      <th></th>\n",
              "      <th></th>\n",
              "      <th></th>\n",
              "      <th></th>\n",
              "      <th></th>\n",
              "      <th></th>\n",
              "      <th></th>\n",
              "      <th></th>\n",
              "      <th></th>\n",
              "      <th></th>\n",
              "      <th></th>\n",
              "      <th></th>\n",
              "      <th></th>\n",
              "      <th></th>\n",
              "    </tr>\n",
              "  </thead>\n",
              "  <tbody>\n",
              "    <tr>\n",
              "      <th>10026</th>\n",
              "      <td>Adinolfi, Wilson  K</td>\n",
              "      <td>0</td>\n",
              "      <td>0</td>\n",
              "      <td>1</td>\n",
              "      <td>1</td>\n",
              "      <td>5</td>\n",
              "      <td>4</td>\n",
              "      <td>0</td>\n",
              "      <td>62506</td>\n",
              "      <td>0</td>\n",
              "      <td>...</td>\n",
              "      <td>Michael Albert</td>\n",
              "      <td>22.0</td>\n",
              "      <td>LinkedIn</td>\n",
              "      <td>Exceeds</td>\n",
              "      <td>4.60</td>\n",
              "      <td>5</td>\n",
              "      <td>0</td>\n",
              "      <td>1/17/2019</td>\n",
              "      <td>0</td>\n",
              "      <td>1</td>\n",
              "    </tr>\n",
              "    <tr>\n",
              "      <th>10084</th>\n",
              "      <td>Ait Sidi, Karthikeyan</td>\n",
              "      <td>1</td>\n",
              "      <td>1</td>\n",
              "      <td>1</td>\n",
              "      <td>5</td>\n",
              "      <td>3</td>\n",
              "      <td>3</td>\n",
              "      <td>0</td>\n",
              "      <td>104437</td>\n",
              "      <td>1</td>\n",
              "      <td>...</td>\n",
              "      <td>Simon Roup</td>\n",
              "      <td>4.0</td>\n",
              "      <td>Indeed</td>\n",
              "      <td>Fully Meets</td>\n",
              "      <td>4.96</td>\n",
              "      <td>3</td>\n",
              "      <td>6</td>\n",
              "      <td>2/24/2016</td>\n",
              "      <td>0</td>\n",
              "      <td>17</td>\n",
              "    </tr>\n",
              "    <tr>\n",
              "      <th>10196</th>\n",
              "      <td>Akinkuolie, Sarah</td>\n",
              "      <td>1</td>\n",
              "      <td>1</td>\n",
              "      <td>0</td>\n",
              "      <td>5</td>\n",
              "      <td>5</td>\n",
              "      <td>3</td>\n",
              "      <td>0</td>\n",
              "      <td>64955</td>\n",
              "      <td>1</td>\n",
              "      <td>...</td>\n",
              "      <td>Kissy Sullivan</td>\n",
              "      <td>20.0</td>\n",
              "      <td>LinkedIn</td>\n",
              "      <td>Fully Meets</td>\n",
              "      <td>3.02</td>\n",
              "      <td>3</td>\n",
              "      <td>0</td>\n",
              "      <td>5/15/2012</td>\n",
              "      <td>0</td>\n",
              "      <td>3</td>\n",
              "    </tr>\n",
              "    <tr>\n",
              "      <th>10088</th>\n",
              "      <td>Alagbe,Trina</td>\n",
              "      <td>1</td>\n",
              "      <td>1</td>\n",
              "      <td>0</td>\n",
              "      <td>1</td>\n",
              "      <td>5</td>\n",
              "      <td>3</td>\n",
              "      <td>0</td>\n",
              "      <td>64991</td>\n",
              "      <td>0</td>\n",
              "      <td>...</td>\n",
              "      <td>Elijiah Gray</td>\n",
              "      <td>16.0</td>\n",
              "      <td>Indeed</td>\n",
              "      <td>Fully Meets</td>\n",
              "      <td>4.84</td>\n",
              "      <td>5</td>\n",
              "      <td>0</td>\n",
              "      <td>1/3/2019</td>\n",
              "      <td>0</td>\n",
              "      <td>15</td>\n",
              "    </tr>\n",
              "    <tr>\n",
              "      <th>10069</th>\n",
              "      <td>Anderson, Carol</td>\n",
              "      <td>0</td>\n",
              "      <td>2</td>\n",
              "      <td>0</td>\n",
              "      <td>5</td>\n",
              "      <td>5</td>\n",
              "      <td>3</td>\n",
              "      <td>0</td>\n",
              "      <td>50825</td>\n",
              "      <td>1</td>\n",
              "      <td>...</td>\n",
              "      <td>Webster Butler</td>\n",
              "      <td>39.0</td>\n",
              "      <td>Google Search</td>\n",
              "      <td>Fully Meets</td>\n",
              "      <td>5.00</td>\n",
              "      <td>4</td>\n",
              "      <td>0</td>\n",
              "      <td>2/1/2016</td>\n",
              "      <td>0</td>\n",
              "      <td>2</td>\n",
              "    </tr>\n",
              "  </tbody>\n",
              "</table>\n",
              "<p>5 rows × 35 columns</p>\n",
              "</div>\n",
              "      <button class=\"colab-df-convert\" onclick=\"convertToInteractive('df-d6fd850d-530d-4be9-babd-8b954ad0a820')\"\n",
              "              title=\"Convert this dataframe to an interactive table.\"\n",
              "              style=\"display:none;\">\n",
              "        \n",
              "  <svg xmlns=\"http://www.w3.org/2000/svg\" height=\"24px\"viewBox=\"0 0 24 24\"\n",
              "       width=\"24px\">\n",
              "    <path d=\"M0 0h24v24H0V0z\" fill=\"none\"/>\n",
              "    <path d=\"M18.56 5.44l.94 2.06.94-2.06 2.06-.94-2.06-.94-.94-2.06-.94 2.06-2.06.94zm-11 1L8.5 8.5l.94-2.06 2.06-.94-2.06-.94L8.5 2.5l-.94 2.06-2.06.94zm10 10l.94 2.06.94-2.06 2.06-.94-2.06-.94-.94-2.06-.94 2.06-2.06.94z\"/><path d=\"M17.41 7.96l-1.37-1.37c-.4-.4-.92-.59-1.43-.59-.52 0-1.04.2-1.43.59L10.3 9.45l-7.72 7.72c-.78.78-.78 2.05 0 2.83L4 21.41c.39.39.9.59 1.41.59.51 0 1.02-.2 1.41-.59l7.78-7.78 2.81-2.81c.8-.78.8-2.07 0-2.86zM5.41 20L4 18.59l7.72-7.72 1.47 1.35L5.41 20z\"/>\n",
              "  </svg>\n",
              "      </button>\n",
              "      \n",
              "  <style>\n",
              "    .colab-df-container {\n",
              "      display:flex;\n",
              "      flex-wrap:wrap;\n",
              "      gap: 12px;\n",
              "    }\n",
              "\n",
              "    .colab-df-convert {\n",
              "      background-color: #E8F0FE;\n",
              "      border: none;\n",
              "      border-radius: 50%;\n",
              "      cursor: pointer;\n",
              "      display: none;\n",
              "      fill: #1967D2;\n",
              "      height: 32px;\n",
              "      padding: 0 0 0 0;\n",
              "      width: 32px;\n",
              "    }\n",
              "\n",
              "    .colab-df-convert:hover {\n",
              "      background-color: #E2EBFA;\n",
              "      box-shadow: 0px 1px 2px rgba(60, 64, 67, 0.3), 0px 1px 3px 1px rgba(60, 64, 67, 0.15);\n",
              "      fill: #174EA6;\n",
              "    }\n",
              "\n",
              "    [theme=dark] .colab-df-convert {\n",
              "      background-color: #3B4455;\n",
              "      fill: #D2E3FC;\n",
              "    }\n",
              "\n",
              "    [theme=dark] .colab-df-convert:hover {\n",
              "      background-color: #434B5C;\n",
              "      box-shadow: 0px 1px 3px 1px rgba(0, 0, 0, 0.15);\n",
              "      filter: drop-shadow(0px 1px 2px rgba(0, 0, 0, 0.3));\n",
              "      fill: #FFFFFF;\n",
              "    }\n",
              "  </style>\n",
              "\n",
              "      <script>\n",
              "        const buttonEl =\n",
              "          document.querySelector('#df-d6fd850d-530d-4be9-babd-8b954ad0a820 button.colab-df-convert');\n",
              "        buttonEl.style.display =\n",
              "          google.colab.kernel.accessAllowed ? 'block' : 'none';\n",
              "\n",
              "        async function convertToInteractive(key) {\n",
              "          const element = document.querySelector('#df-d6fd850d-530d-4be9-babd-8b954ad0a820');\n",
              "          const dataTable =\n",
              "            await google.colab.kernel.invokeFunction('convertToInteractive',\n",
              "                                                     [key], {});\n",
              "          if (!dataTable) return;\n",
              "\n",
              "          const docLinkHtml = 'Like what you see? Visit the ' +\n",
              "            '<a target=\"_blank\" href=https://colab.research.google.com/notebooks/data_table.ipynb>data table notebook</a>'\n",
              "            + ' to learn more about interactive tables.';\n",
              "          element.innerHTML = '';\n",
              "          dataTable['output_type'] = 'display_data';\n",
              "          await google.colab.output.renderOutput(dataTable, element);\n",
              "          const docLink = document.createElement('div');\n",
              "          docLink.innerHTML = docLinkHtml;\n",
              "          element.appendChild(docLink);\n",
              "        }\n",
              "      </script>\n",
              "    </div>\n",
              "  </div>\n",
              "  "
            ]
          },
          "metadata": {},
          "execution_count": 4
        }
      ]
    },
    {
      "cell_type": "markdown",
      "source": [
        "## **Estadisticas Descriptivas del DataSet**"
      ],
      "metadata": {
        "id": "frOrzD_IkAUw"
      }
    },
    {
      "cell_type": "code",
      "source": [
        "df_datos.describe()"
      ],
      "metadata": {
        "colab": {
          "base_uri": "https://localhost:8080/",
          "height": 364
        },
        "id": "cv9YLv_Dg6r-",
        "outputId": "54c93092-4c3f-474c-dd4d-ae876ca5d85f"
      },
      "execution_count": null,
      "outputs": [
        {
          "output_type": "execute_result",
          "data": {
            "text/plain": [
              "        MarriedID  MaritalStatusID    GenderID  EmpStatusID      DeptID  \\\n",
              "count  311.000000       311.000000  311.000000   311.000000  311.000000   \n",
              "mean     0.398714         0.810289    0.434084     2.392283    4.610932   \n",
              "std      0.490423         0.943239    0.496435     1.794383    1.083487   \n",
              "min      0.000000         0.000000    0.000000     1.000000    1.000000   \n",
              "25%      0.000000         0.000000    0.000000     1.000000    5.000000   \n",
              "50%      0.000000         1.000000    0.000000     1.000000    5.000000   \n",
              "75%      1.000000         1.000000    1.000000     5.000000    5.000000   \n",
              "max      1.000000         4.000000    1.000000     5.000000    6.000000   \n",
              "\n",
              "       PerfScoreID  FromDiversityJobFairID         Salary       Termd  \\\n",
              "count   311.000000              311.000000     311.000000  311.000000   \n",
              "mean      2.977492                0.093248   69020.684887    0.334405   \n",
              "std       0.587072                0.291248   25156.636930    0.472542   \n",
              "min       1.000000                0.000000   45046.000000    0.000000   \n",
              "25%       3.000000                0.000000   55501.500000    0.000000   \n",
              "50%       3.000000                0.000000   62810.000000    0.000000   \n",
              "75%       3.000000                0.000000   72036.000000    1.000000   \n",
              "max       4.000000                1.000000  250000.000000    1.000000   \n",
              "\n",
              "       PositionID           Zip   ManagerID  EngagementSurvey  \\\n",
              "count  311.000000    311.000000  303.000000        311.000000   \n",
              "mean    16.845659   6555.482315   14.570957          4.110000   \n",
              "std      6.223419  16908.396884    8.078306          0.789938   \n",
              "min      1.000000   1013.000000    1.000000          1.120000   \n",
              "25%     18.000000   1901.500000   10.000000          3.690000   \n",
              "50%     19.000000   2132.000000   15.000000          4.280000   \n",
              "75%     20.000000   2355.000000   19.000000          4.700000   \n",
              "max     30.000000  98052.000000   39.000000          5.000000   \n",
              "\n",
              "       EmpSatisfaction  SpecialProjectsCount  DaysLateLast30    Absences  \n",
              "count       311.000000            311.000000      311.000000  311.000000  \n",
              "mean          3.890675              1.218650        0.414791   10.237942  \n",
              "std           0.909241              2.349421        1.294519    5.852596  \n",
              "min           1.000000              0.000000        0.000000    1.000000  \n",
              "25%           3.000000              0.000000        0.000000    5.000000  \n",
              "50%           4.000000              0.000000        0.000000   10.000000  \n",
              "75%           5.000000              0.000000        0.000000   15.000000  \n",
              "max           5.000000              8.000000        6.000000   20.000000  "
            ],
            "text/html": [
              "\n",
              "  <div id=\"df-cc6cc4b6-ddf7-4003-a6fc-d706bdbc936c\">\n",
              "    <div class=\"colab-df-container\">\n",
              "      <div>\n",
              "<style scoped>\n",
              "    .dataframe tbody tr th:only-of-type {\n",
              "        vertical-align: middle;\n",
              "    }\n",
              "\n",
              "    .dataframe tbody tr th {\n",
              "        vertical-align: top;\n",
              "    }\n",
              "\n",
              "    .dataframe thead th {\n",
              "        text-align: right;\n",
              "    }\n",
              "</style>\n",
              "<table border=\"1\" class=\"dataframe\">\n",
              "  <thead>\n",
              "    <tr style=\"text-align: right;\">\n",
              "      <th></th>\n",
              "      <th>MarriedID</th>\n",
              "      <th>MaritalStatusID</th>\n",
              "      <th>GenderID</th>\n",
              "      <th>EmpStatusID</th>\n",
              "      <th>DeptID</th>\n",
              "      <th>PerfScoreID</th>\n",
              "      <th>FromDiversityJobFairID</th>\n",
              "      <th>Salary</th>\n",
              "      <th>Termd</th>\n",
              "      <th>PositionID</th>\n",
              "      <th>Zip</th>\n",
              "      <th>ManagerID</th>\n",
              "      <th>EngagementSurvey</th>\n",
              "      <th>EmpSatisfaction</th>\n",
              "      <th>SpecialProjectsCount</th>\n",
              "      <th>DaysLateLast30</th>\n",
              "      <th>Absences</th>\n",
              "    </tr>\n",
              "  </thead>\n",
              "  <tbody>\n",
              "    <tr>\n",
              "      <th>count</th>\n",
              "      <td>311.000000</td>\n",
              "      <td>311.000000</td>\n",
              "      <td>311.000000</td>\n",
              "      <td>311.000000</td>\n",
              "      <td>311.000000</td>\n",
              "      <td>311.000000</td>\n",
              "      <td>311.000000</td>\n",
              "      <td>311.000000</td>\n",
              "      <td>311.000000</td>\n",
              "      <td>311.000000</td>\n",
              "      <td>311.000000</td>\n",
              "      <td>303.000000</td>\n",
              "      <td>311.000000</td>\n",
              "      <td>311.000000</td>\n",
              "      <td>311.000000</td>\n",
              "      <td>311.000000</td>\n",
              "      <td>311.000000</td>\n",
              "    </tr>\n",
              "    <tr>\n",
              "      <th>mean</th>\n",
              "      <td>0.398714</td>\n",
              "      <td>0.810289</td>\n",
              "      <td>0.434084</td>\n",
              "      <td>2.392283</td>\n",
              "      <td>4.610932</td>\n",
              "      <td>2.977492</td>\n",
              "      <td>0.093248</td>\n",
              "      <td>69020.684887</td>\n",
              "      <td>0.334405</td>\n",
              "      <td>16.845659</td>\n",
              "      <td>6555.482315</td>\n",
              "      <td>14.570957</td>\n",
              "      <td>4.110000</td>\n",
              "      <td>3.890675</td>\n",
              "      <td>1.218650</td>\n",
              "      <td>0.414791</td>\n",
              "      <td>10.237942</td>\n",
              "    </tr>\n",
              "    <tr>\n",
              "      <th>std</th>\n",
              "      <td>0.490423</td>\n",
              "      <td>0.943239</td>\n",
              "      <td>0.496435</td>\n",
              "      <td>1.794383</td>\n",
              "      <td>1.083487</td>\n",
              "      <td>0.587072</td>\n",
              "      <td>0.291248</td>\n",
              "      <td>25156.636930</td>\n",
              "      <td>0.472542</td>\n",
              "      <td>6.223419</td>\n",
              "      <td>16908.396884</td>\n",
              "      <td>8.078306</td>\n",
              "      <td>0.789938</td>\n",
              "      <td>0.909241</td>\n",
              "      <td>2.349421</td>\n",
              "      <td>1.294519</td>\n",
              "      <td>5.852596</td>\n",
              "    </tr>\n",
              "    <tr>\n",
              "      <th>min</th>\n",
              "      <td>0.000000</td>\n",
              "      <td>0.000000</td>\n",
              "      <td>0.000000</td>\n",
              "      <td>1.000000</td>\n",
              "      <td>1.000000</td>\n",
              "      <td>1.000000</td>\n",
              "      <td>0.000000</td>\n",
              "      <td>45046.000000</td>\n",
              "      <td>0.000000</td>\n",
              "      <td>1.000000</td>\n",
              "      <td>1013.000000</td>\n",
              "      <td>1.000000</td>\n",
              "      <td>1.120000</td>\n",
              "      <td>1.000000</td>\n",
              "      <td>0.000000</td>\n",
              "      <td>0.000000</td>\n",
              "      <td>1.000000</td>\n",
              "    </tr>\n",
              "    <tr>\n",
              "      <th>25%</th>\n",
              "      <td>0.000000</td>\n",
              "      <td>0.000000</td>\n",
              "      <td>0.000000</td>\n",
              "      <td>1.000000</td>\n",
              "      <td>5.000000</td>\n",
              "      <td>3.000000</td>\n",
              "      <td>0.000000</td>\n",
              "      <td>55501.500000</td>\n",
              "      <td>0.000000</td>\n",
              "      <td>18.000000</td>\n",
              "      <td>1901.500000</td>\n",
              "      <td>10.000000</td>\n",
              "      <td>3.690000</td>\n",
              "      <td>3.000000</td>\n",
              "      <td>0.000000</td>\n",
              "      <td>0.000000</td>\n",
              "      <td>5.000000</td>\n",
              "    </tr>\n",
              "    <tr>\n",
              "      <th>50%</th>\n",
              "      <td>0.000000</td>\n",
              "      <td>1.000000</td>\n",
              "      <td>0.000000</td>\n",
              "      <td>1.000000</td>\n",
              "      <td>5.000000</td>\n",
              "      <td>3.000000</td>\n",
              "      <td>0.000000</td>\n",
              "      <td>62810.000000</td>\n",
              "      <td>0.000000</td>\n",
              "      <td>19.000000</td>\n",
              "      <td>2132.000000</td>\n",
              "      <td>15.000000</td>\n",
              "      <td>4.280000</td>\n",
              "      <td>4.000000</td>\n",
              "      <td>0.000000</td>\n",
              "      <td>0.000000</td>\n",
              "      <td>10.000000</td>\n",
              "    </tr>\n",
              "    <tr>\n",
              "      <th>75%</th>\n",
              "      <td>1.000000</td>\n",
              "      <td>1.000000</td>\n",
              "      <td>1.000000</td>\n",
              "      <td>5.000000</td>\n",
              "      <td>5.000000</td>\n",
              "      <td>3.000000</td>\n",
              "      <td>0.000000</td>\n",
              "      <td>72036.000000</td>\n",
              "      <td>1.000000</td>\n",
              "      <td>20.000000</td>\n",
              "      <td>2355.000000</td>\n",
              "      <td>19.000000</td>\n",
              "      <td>4.700000</td>\n",
              "      <td>5.000000</td>\n",
              "      <td>0.000000</td>\n",
              "      <td>0.000000</td>\n",
              "      <td>15.000000</td>\n",
              "    </tr>\n",
              "    <tr>\n",
              "      <th>max</th>\n",
              "      <td>1.000000</td>\n",
              "      <td>4.000000</td>\n",
              "      <td>1.000000</td>\n",
              "      <td>5.000000</td>\n",
              "      <td>6.000000</td>\n",
              "      <td>4.000000</td>\n",
              "      <td>1.000000</td>\n",
              "      <td>250000.000000</td>\n",
              "      <td>1.000000</td>\n",
              "      <td>30.000000</td>\n",
              "      <td>98052.000000</td>\n",
              "      <td>39.000000</td>\n",
              "      <td>5.000000</td>\n",
              "      <td>5.000000</td>\n",
              "      <td>8.000000</td>\n",
              "      <td>6.000000</td>\n",
              "      <td>20.000000</td>\n",
              "    </tr>\n",
              "  </tbody>\n",
              "</table>\n",
              "</div>\n",
              "      <button class=\"colab-df-convert\" onclick=\"convertToInteractive('df-cc6cc4b6-ddf7-4003-a6fc-d706bdbc936c')\"\n",
              "              title=\"Convert this dataframe to an interactive table.\"\n",
              "              style=\"display:none;\">\n",
              "        \n",
              "  <svg xmlns=\"http://www.w3.org/2000/svg\" height=\"24px\"viewBox=\"0 0 24 24\"\n",
              "       width=\"24px\">\n",
              "    <path d=\"M0 0h24v24H0V0z\" fill=\"none\"/>\n",
              "    <path d=\"M18.56 5.44l.94 2.06.94-2.06 2.06-.94-2.06-.94-.94-2.06-.94 2.06-2.06.94zm-11 1L8.5 8.5l.94-2.06 2.06-.94-2.06-.94L8.5 2.5l-.94 2.06-2.06.94zm10 10l.94 2.06.94-2.06 2.06-.94-2.06-.94-.94-2.06-.94 2.06-2.06.94z\"/><path d=\"M17.41 7.96l-1.37-1.37c-.4-.4-.92-.59-1.43-.59-.52 0-1.04.2-1.43.59L10.3 9.45l-7.72 7.72c-.78.78-.78 2.05 0 2.83L4 21.41c.39.39.9.59 1.41.59.51 0 1.02-.2 1.41-.59l7.78-7.78 2.81-2.81c.8-.78.8-2.07 0-2.86zM5.41 20L4 18.59l7.72-7.72 1.47 1.35L5.41 20z\"/>\n",
              "  </svg>\n",
              "      </button>\n",
              "      \n",
              "  <style>\n",
              "    .colab-df-container {\n",
              "      display:flex;\n",
              "      flex-wrap:wrap;\n",
              "      gap: 12px;\n",
              "    }\n",
              "\n",
              "    .colab-df-convert {\n",
              "      background-color: #E8F0FE;\n",
              "      border: none;\n",
              "      border-radius: 50%;\n",
              "      cursor: pointer;\n",
              "      display: none;\n",
              "      fill: #1967D2;\n",
              "      height: 32px;\n",
              "      padding: 0 0 0 0;\n",
              "      width: 32px;\n",
              "    }\n",
              "\n",
              "    .colab-df-convert:hover {\n",
              "      background-color: #E2EBFA;\n",
              "      box-shadow: 0px 1px 2px rgba(60, 64, 67, 0.3), 0px 1px 3px 1px rgba(60, 64, 67, 0.15);\n",
              "      fill: #174EA6;\n",
              "    }\n",
              "\n",
              "    [theme=dark] .colab-df-convert {\n",
              "      background-color: #3B4455;\n",
              "      fill: #D2E3FC;\n",
              "    }\n",
              "\n",
              "    [theme=dark] .colab-df-convert:hover {\n",
              "      background-color: #434B5C;\n",
              "      box-shadow: 0px 1px 3px 1px rgba(0, 0, 0, 0.15);\n",
              "      filter: drop-shadow(0px 1px 2px rgba(0, 0, 0, 0.3));\n",
              "      fill: #FFFFFF;\n",
              "    }\n",
              "  </style>\n",
              "\n",
              "      <script>\n",
              "        const buttonEl =\n",
              "          document.querySelector('#df-cc6cc4b6-ddf7-4003-a6fc-d706bdbc936c button.colab-df-convert');\n",
              "        buttonEl.style.display =\n",
              "          google.colab.kernel.accessAllowed ? 'block' : 'none';\n",
              "\n",
              "        async function convertToInteractive(key) {\n",
              "          const element = document.querySelector('#df-cc6cc4b6-ddf7-4003-a6fc-d706bdbc936c');\n",
              "          const dataTable =\n",
              "            await google.colab.kernel.invokeFunction('convertToInteractive',\n",
              "                                                     [key], {});\n",
              "          if (!dataTable) return;\n",
              "\n",
              "          const docLinkHtml = 'Like what you see? Visit the ' +\n",
              "            '<a target=\"_blank\" href=https://colab.research.google.com/notebooks/data_table.ipynb>data table notebook</a>'\n",
              "            + ' to learn more about interactive tables.';\n",
              "          element.innerHTML = '';\n",
              "          dataTable['output_type'] = 'display_data';\n",
              "          await google.colab.output.renderOutput(dataTable, element);\n",
              "          const docLink = document.createElement('div');\n",
              "          docLink.innerHTML = docLinkHtml;\n",
              "          element.appendChild(docLink);\n",
              "        }\n",
              "      </script>\n",
              "    </div>\n",
              "  </div>\n",
              "  "
            ]
          },
          "metadata": {},
          "execution_count": 5
        }
      ]
    },
    {
      "cell_type": "markdown",
      "source": [
        "#2. Realizar un histograma con los salarios. Qué rango(s) de salarios son los más populares?\n"
      ],
      "metadata": {
        "id": "l_OkcWMIAogd"
      }
    },
    {
      "cell_type": "code",
      "source": [
        "# Preparacion de los datos para crear el Histograma\n",
        "df_datos2 = df_datos0\n",
        "\n",
        "datos_salario = df_datos2['Salary'].values.flatten()\n",
        "# Creamos la variable intervalos para usarla como bins.\n",
        "# Creamos intervalos entre los valores limites del rango salarial y lo dividimos\n",
        "# en intervalos salariales con diferencia de 30.000USD.\n",
        "# Min: $45.046     Max= $250.000\n",
        "intervalos = range(min(datos_salario), max(datos_salario), 30000)"
      ],
      "metadata": {
        "id": "vydbraAbqWy6"
      },
      "execution_count": null,
      "outputs": []
    },
    {
      "cell_type": "markdown",
      "source": [
        "**Graficamos el Histograma**"
      ],
      "metadata": {
        "id": "rEDowOEAjrAw"
      }
    },
    {
      "cell_type": "code",
      "source": [
        "# Creamos el canvas donde plasmaremos el Historgrama en la variable \"fig\" \n",
        "# y en \"ax\" setearemos todo lo necesario para crear el grafico.\n",
        "fig, ax = plt.subplots(figsize=(12, 4))\n",
        "\n",
        "# Graficacion del Histograma con los datos correspondientes\n",
        "ax.hist(datos_salario, bins=intervalos )\n",
        "# Seteo y configuracion de nombres de titulos y labels XY\n",
        "ax.set_title('Histograma de Salarios Anuales')\n",
        "ax.title.set_fontstyle(fontstyle='italic')\n",
        "ax.title.set_size(fontsize=20)\n",
        "ax.title.set_color('blue')\n",
        "ax.set_xlabel('Intervalos de Salarios')\n",
        "ax.set_ylabel('Frecuencia Absoluta')"
      ],
      "metadata": {
        "colab": {
          "base_uri": "https://localhost:8080/",
          "height": 323
        },
        "id": "pNtshoG8n9tX",
        "outputId": "216b4f0d-6bd2-4a70-8860-a37b10c92648"
      },
      "execution_count": null,
      "outputs": [
        {
          "output_type": "execute_result",
          "data": {
            "text/plain": [
              "Text(0, 0.5, 'Frecuencia Absoluta')"
            ]
          },
          "metadata": {},
          "execution_count": 7
        },
        {
          "output_type": "display_data",
          "data": {
            "text/plain": [
              "<Figure size 864x288 with 1 Axes>"
            ],
            "image/png": "[encoded data removed]"
          },
          "metadata": {}
        }
      ]
    },
    {
      "cell_type": "markdown",
      "source": [
        "**CONCLUSION:** Se puede concluir que el rango salarial de mayor popularidad es de 45.000 a 75.000 USD Anuales."
      ],
      "metadata": {
        "id": "qUwp-qqX4mLq"
      }
    },
    {
      "cell_type": "markdown",
      "source": [
        "# 3. Realizar un gráfico de violín con los salarios, discriminados por género. "
      ],
      "metadata": {
        "id": "jpbXZbkGAyRZ"
      }
    },
    {
      "cell_type": "code",
      "source": [
        "df_datos3 = df_datos0\n",
        "\n",
        "# Si bien en clase vimos la creacion de graficos de violin a partir de catplot pasando como parametro el tipo de grafico a utilizar\n",
        "# decidi ir por mi cuenta y leer la documentacion para hacer el grafico\n",
        "\n",
        "# Le pasamos a la funcion graficadora los parametros a comparar\n",
        "# Si bien el ejercicio pide por \"Genero\" para evitar hacer modificaciones del dataset\n",
        "# y como solo se presentan dos generos \"F=0 y M=1\" decidi usar la columna \"Sex\"\n",
        "# porque ya vine discriminado por letras\n",
        "df_salario = sns.violinplot(x ='Sex', y ='Salary', data= df_datos3)\n",
        "df_salario.set_title('Salarios Discriminado por Género')\n",
        "df_salario.title.set_fontstyle(fontstyle='italic')\n",
        "df_salario.title.set_size(fontsize=17)\n",
        "df_salario.title.set_color('blue')\n",
        "df_salario"
      ],
      "metadata": {
        "id": "CmqMWF0JA6g5",
        "colab": {
          "base_uri": "https://localhost:8080/",
          "height": 322
        },
        "outputId": "088b8e36-e8b1-49c9-95f0-8db40afbf80a"
      },
      "execution_count": null,
      "outputs": [
        {
          "output_type": "execute_result",
          "data": {
            "text/plain": [
              "<matplotlib.axes._subplots.AxesSubplot at 0x7fd08c7fe110>"
            ]
          },
          "metadata": {},
          "execution_count": 20
        },
        {
          "output_type": "display_data",
          "data": {
            "text/plain": [
              "<Figure size 432x288 with 1 Axes>"
            ],
            "image/png": "[encoded data removed]"
          },
          "metadata": {}
        }
      ]
    },
    {
      "cell_type": "markdown",
      "source": [
        "**CONCLUSION:** Se puede observar que el rango salarial que mas abarca, tanto de hombres como mujeres, es entre los 50.000 y 65.000. Se puede ver tambien que la dispersion de salarios es mayor en el hombre que en la mujer, sin embargo el salario mas alto lo tienen las mujeres, segun los datos presentados."
      ],
      "metadata": {
        "id": "WP3jBcPMpzIV"
      }
    },
    {
      "cell_type": "markdown",
      "source": [
        "# 4. Graficar la serie de tiempo correspondiente a la fecha de contratación (DateofHire)\n",
        "\n"
      ],
      "metadata": {
        "id": "mlejRsSgA60h"
      }
    },
    {
      "cell_type": "markdown",
      "source": [
        "**Preparacion de los Datos**"
      ],
      "metadata": {
        "id": "qeipQFjYmKal"
      }
    },
    {
      "cell_type": "code",
      "source": [
        "df_contratacion = df_datos0\n",
        "\n",
        "# Convertimos los datos de la columna \"DateofHire\" a datetime\n",
        "df_contratacion['DateofHire'] = pd.to_datetime(df_contratacion[\"DateofHire\"])\n",
        "\n",
        "# Seteamos el index solo con el año y renombramos la columna \"DateofHire\" para evitar ambiguedad\n",
        "df_contratacion.index = pd.DatetimeIndex(df_contratacion['DateofHire']).year\n",
        "df_contratacion.rename(columns={'DateofHire':'DateHire'}, inplace=True)"
      ],
      "metadata": {
        "id": "bFHy1CeMA95S"
      },
      "execution_count": null,
      "outputs": []
    },
    {
      "cell_type": "markdown",
      "source": [
        "**Obtenemos los datos a graficar**"
      ],
      "metadata": {
        "id": "l84lWSTvnspe"
      }
    },
    {
      "cell_type": "code",
      "source": [
        "# Agrupamos las filas por año y contamos la cantidad de empleados contratados\n",
        "\n",
        "# El groupby.count() va agrupar por años y contar por cada columna\n",
        "df_contador_contrataciones = df_contratacion.groupby('DateofHire').count()\n",
        "# Nos quedamos solo con los años y la cantidad de contratados por año\n",
        "year = df_contador_contrataciones['EmpID'].index\n",
        "contador =  df_contador_contrataciones['EmpID'].values"
      ],
      "metadata": {
        "id": "SUPXKCxi6Qo1"
      },
      "execution_count": null,
      "outputs": []
    },
    {
      "cell_type": "code",
      "source": [
        "# Creamos el canvas donde plasmaremos la Serie de Tiempo en la variable \"fig\" \n",
        "# y en \"ax\" setearemos todo lo necesario para crear el grafico.\n",
        "\n",
        "fig, ax = plt.subplots(figsize=(12, 8))  \n",
        "ax.plot(year,contador,color='red')\n",
        "\n",
        "# Seteo de titulos y labels\n",
        "ax.set_title('Cantidad de Empleados Contratados por Año')\n",
        "ax.title.set_fontstyle(fontstyle='italic')\n",
        "ax.title.set_size(fontsize=20)\n",
        "ax.title.set_color('blue')\n",
        "ax.set_ylabel('Salario Anual (USD)')\n",
        "ax.set_xlabel('Año')\n",
        "\n",
        "# Seteo de los limites del grafico\n",
        "ax.set_xlim(year[0], year[-1])"
      ],
      "metadata": {
        "colab": {
          "base_uri": "https://localhost:8080/",
          "height": 540
        },
        "id": "-uiZg8NJULYx",
        "outputId": "0b55364e-ca3e-4953-c505-ad8903797c17"
      },
      "execution_count": null,
      "outputs": [
        {
          "output_type": "execute_result",
          "data": {
            "text/plain": [
              "(2006.0, 2018.0)"
            ]
          },
          "metadata": {},
          "execution_count": 21
        },
        {
          "output_type": "display_data",
          "data": {
            "text/plain": [
              "<Figure size 864x576 with 1 Axes>"
            ],
            "image/png": "[encoded data removed]"
          },
          "metadata": {}
        }
      ]
    },
    {
      "cell_type": "markdown",
      "source": [
        "CONCLUSION: Se puede observar que el mayor numero de contratados se dio en el año 2011 seguido por el año 2014."
      ],
      "metadata": {
        "id": "LeAi8-QVoeTy"
      }
    }
  ]
}